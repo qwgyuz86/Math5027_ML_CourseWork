{
 "cells": [
  {
   "cell_type": "markdown",
   "metadata": {},
   "source": [
    "<font color='red'>\n",
    "Grade: 100\n",
    "    \n",
    "Preprocessing Emails: Good\n",
    "    \n",
    "Vocabulary List: Good\n",
    "    \n",
    "Extracting Features from Emails: Good\n",
    "    \n",
    "Training SVM for Spam Classification: Good"
   ]
  },
  {
   "cell_type": "code",
   "execution_count": 1,
   "metadata": {},
   "outputs": [],
   "source": [
    "#Import library\n",
    "\n",
    "import numpy as np\n",
    "import scipy as sp\n",
    "import pandas as pd\n",
    "import sklearn.linear_model\n",
    "import matplotlib.pyplot as plt\n",
    "%matplotlib inline\n",
    "from sklearn.metrics import mean_squared_error\n",
    "from sklearn.preprocessing import PolynomialFeatures\n",
    "from sklearn.preprocessing import StandardScaler\n",
    "from sklearn.svm import LinearSVC\n",
    "from sklearn.pipeline import Pipeline\n",
    "from sklearn.svm import SVC\n",
    "from sklearn.model_selection import train_test_split\n",
    "from sklearn.linear_model import LogisticRegression\n",
    "from sklearn.metrics import accuracy_score, confusion_matrix, precision_score, recall_score, f1_score, roc_curve, roc_auc_score, precision_recall_curve, auc\n",
    "from sklearn.ensemble import AdaBoostClassifier\n",
    "from sklearn.tree import DecisionTreeClassifier\n",
    "import re\n",
    "from nltk.stem import PorterStemmer"
   ]
  },
  {
   "cell_type": "code",
   "execution_count": 2,
   "metadata": {
    "pycharm": {
     "name": "#%%\n"
    }
   },
   "outputs": [
    {
     "name": "stdout",
     "output_type": "stream",
     "text": [
      "/Users/yaningliu/OneDrive - The University of Colorado Denver/CUDenver_Courses/MATH40275027_MachineLearning_Spring2021/Homework/StudentHW/Midterm_Project_Sec001\n"
     ]
    }
   ],
   "source": [
    "#Check Working directory location\n",
    "import os\n",
    "print(os.getcwd())"
   ]
  },
  {
   "cell_type": "markdown",
   "metadata": {},
   "source": [
    "### Problem 1 Preprocessing Emails (20 pts)"
   ]
  },
  {
   "cell_type": "code",
   "execution_count": 3,
   "metadata": {
    "pycharm": {
     "name": "#%%\n"
    }
   },
   "outputs": [],
   "source": [
    "#Load example email\n",
    "email_0 = open('email1.txt', 'r').read()"
   ]
  },
  {
   "cell_type": "code",
   "execution_count": 4,
   "metadata": {
    "pycharm": {
     "name": "#%%\n"
    }
   },
   "outputs": [],
   "source": [
    "# Check individual processing code as a test\n",
    "#email = email_0\n",
    "# email = email.lower()\n",
    "# email = re.sub(r'(http|https)://[^\\s]*','httpaddr', email)\n",
    "# email = re.sub('[^\\s]+@[^\\s]+', 'emailaddr', email)\n",
    "# email = re.sub('[0-9]+', 'number', email)\n",
    "# email = re.sub('[$]+', 'dollar', email)\n",
    "# ps = PorterStemmer()\n",
    "# email = \" \".join([ps.stem(word) for word in email.split()])\n",
    "# email = re.sub(r'[\\'\\\"@$%/#.:,&*+=?!\\[\\](){}>_<]', '', email)\n",
    "# email = re.sub(r'\\s+',' ', email)\n",
    "# email = email.strip()\n",
    "# print(email)"
   ]
  },
  {
   "cell_type": "code",
   "execution_count": 5,
   "metadata": {
    "pycharm": {
     "name": "#%%\n"
    }
   },
   "outputs": [],
   "source": [
    "#Write function for ProcessEmail\n",
    "def ProcessEmail(x):\n",
    "    x = x.lower()\n",
    "    x = re.sub(r'(http|https)://[^\\s]*','httpaddr', x)\n",
    "    x = re.sub('[^\\s]+@[^\\s]+', 'emailaddr', x)\n",
    "    x = re.sub('[0-9]+', 'number', x)\n",
    "    x = re.sub('[$]+', 'dollar', x)\n",
    "    x = re.sub(r'[\\'\\\"@$%/#.:,&*+=?!\\[\\](){}>_<]', '', x) #this needs to come before porter stemmer in order to get same result, otherwise you get dollarnumber instead of dollarnumb\n",
    "    ps = PorterStemmer()\n",
    "    x = \" \".join([ps.stem(word) for word in x.split()])\n",
    "    x = re.sub(r'\\s+',' ', x)\n",
    "    x = x.strip()\n",
    "    return x;"
   ]
  },
  {
   "cell_type": "code",
   "execution_count": 6,
   "metadata": {
    "pycharm": {
     "name": "#%%\n"
    },
    "scrolled": true
   },
   "outputs": [
    {
     "name": "stdout",
     "output_type": "stream",
     "text": [
      "anyon know how much it cost to host a web portal well it depend on how mani visitor your expect thi can be anywher from less than number buck a month to a coupl of dollarnumb you should checkout httpaddr or perhap amazon ecnumb if your run someth big to unsubscrib yourself from thi mail list send an email to emailaddr\n"
     ]
    }
   ],
   "source": [
    "#Use function\n",
    "email_new = ProcessEmail(email_0)\n",
    "print(email_new)"
   ]
  },
  {
   "cell_type": "code",
   "execution_count": 7,
   "metadata": {
    "scrolled": false
   },
   "outputs": [
    {
     "name": "stdout",
     "output_type": "stream",
     "text": [
      "> Anyone knows how much it costs to host a web portal ?\n",
      ">\n",
      "Well, it depends on how many visitors you're expecting.\n",
      "This can be anywhere from less than 10 bucks a month to a couple of $100. \n",
      "You should checkout http://www.rackspace.com/ or perhaps Amazon EC2 \n",
      "if youre running something big..\n",
      "\n",
      "To unsubscribe yourself from this mailing list, send an email to:\n",
      "groupname-unsubscribe@egroups.com\n",
      "\n",
      "\n"
     ]
    }
   ],
   "source": [
    "#Just to take a look at original email\n",
    "print(email_0)"
   ]
  },
  {
   "cell_type": "markdown",
   "metadata": {},
   "source": [
    "### Problem 2 Vocabulary List (25 pts)"
   ]
  },
  {
   "cell_type": "code",
   "execution_count": 8,
   "metadata": {},
   "outputs": [
    {
     "data": {
      "text/html": [
       "<div>\n",
       "<style scoped>\n",
       "    .dataframe tbody tr th:only-of-type {\n",
       "        vertical-align: middle;\n",
       "    }\n",
       "\n",
       "    .dataframe tbody tr th {\n",
       "        vertical-align: top;\n",
       "    }\n",
       "\n",
       "    .dataframe thead th {\n",
       "        text-align: right;\n",
       "    }\n",
       "</style>\n",
       "<table border=\"1\" class=\"dataframe\">\n",
       "  <thead>\n",
       "    <tr style=\"text-align: right;\">\n",
       "      <th></th>\n",
       "      <th>index</th>\n",
       "      <th>word</th>\n",
       "    </tr>\n",
       "  </thead>\n",
       "  <tbody>\n",
       "    <tr>\n",
       "      <th>0</th>\n",
       "      <td>1</td>\n",
       "      <td>aa</td>\n",
       "    </tr>\n",
       "    <tr>\n",
       "      <th>1</th>\n",
       "      <td>2</td>\n",
       "      <td>ab</td>\n",
       "    </tr>\n",
       "    <tr>\n",
       "      <th>2</th>\n",
       "      <td>3</td>\n",
       "      <td>abil</td>\n",
       "    </tr>\n",
       "    <tr>\n",
       "      <th>3</th>\n",
       "      <td>4</td>\n",
       "      <td>abl</td>\n",
       "    </tr>\n",
       "    <tr>\n",
       "      <th>4</th>\n",
       "      <td>5</td>\n",
       "      <td>about</td>\n",
       "    </tr>\n",
       "    <tr>\n",
       "      <th>5</th>\n",
       "      <td>6</td>\n",
       "      <td>abov</td>\n",
       "    </tr>\n",
       "    <tr>\n",
       "      <th>6</th>\n",
       "      <td>7</td>\n",
       "      <td>absolut</td>\n",
       "    </tr>\n",
       "    <tr>\n",
       "      <th>7</th>\n",
       "      <td>8</td>\n",
       "      <td>abus</td>\n",
       "    </tr>\n",
       "    <tr>\n",
       "      <th>8</th>\n",
       "      <td>9</td>\n",
       "      <td>ac</td>\n",
       "    </tr>\n",
       "    <tr>\n",
       "      <th>9</th>\n",
       "      <td>10</td>\n",
       "      <td>accept</td>\n",
       "    </tr>\n",
       "  </tbody>\n",
       "</table>\n",
       "</div>"
      ],
      "text/plain": [
       "   index     word\n",
       "0      1       aa\n",
       "1      2       ab\n",
       "2      3     abil\n",
       "3      4      abl\n",
       "4      5    about\n",
       "5      6     abov\n",
       "6      7  absolut\n",
       "7      8     abus\n",
       "8      9       ac\n",
       "9     10   accept"
      ]
     },
     "execution_count": 8,
     "metadata": {},
     "output_type": "execute_result"
    }
   ],
   "source": [
    "#Load data\n",
    "vocab = pd.read_csv('vocab.txt', delim_whitespace=True, names=['index', 'word'])\n",
    "#Check head\n",
    "vocab.head(10)"
   ]
  },
  {
   "cell_type": "code",
   "execution_count": 9,
   "metadata": {
    "pycharm": {
     "name": "#%%\n"
    }
   },
   "outputs": [],
   "source": [
    "#for loop test\n",
    "# play = []\n",
    "#\n",
    "# for x in test:\n",
    "#     if x in z:\n",
    "#         number = z.index(x)\n",
    "#         play.append(number+1)\n",
    "# print(play)"
   ]
  },
  {
   "cell_type": "code",
   "execution_count": 10,
   "metadata": {
    "pycharm": {
     "name": "#%%\n"
    }
   },
   "outputs": [],
   "source": [
    "#Write function for EmailToIndices\n",
    "def EmailToIndices(processed_email, vocab_df):\n",
    "    word_list = processed_email.split()\n",
    "    vocab_map = list(vocab_df['word'])\n",
    "    index_list = []\n",
    "    for x in word_list:\n",
    "        if x in vocab_map:\n",
    "            number = vocab_map.index(x)\n",
    "            index_list.append(number+1)\n",
    "    return index_list"
   ]
  },
  {
   "cell_type": "code",
   "execution_count": 11,
   "metadata": {
    "pycharm": {
     "name": "#%%\n"
    }
   },
   "outputs": [
    {
     "data": {
      "text/plain": [
       "[86,\n",
       " 916,\n",
       " 794,\n",
       " 1077,\n",
       " 883,\n",
       " 370,\n",
       " 1699,\n",
       " 790,\n",
       " 1822,\n",
       " 1831,\n",
       " 883,\n",
       " 431,\n",
       " 1171,\n",
       " 794,\n",
       " 1002,\n",
       " 1895,\n",
       " 592,\n",
       " 1676,\n",
       " 238,\n",
       " 162,\n",
       " 89,\n",
       " 688,\n",
       " 945,\n",
       " 1663,\n",
       " 1120,\n",
       " 1062,\n",
       " 1699,\n",
       " 375,\n",
       " 1162,\n",
       " 479,\n",
       " 1893,\n",
       " 1510,\n",
       " 799,\n",
       " 1182,\n",
       " 1237,\n",
       " 810,\n",
       " 1895,\n",
       " 1440,\n",
       " 1547,\n",
       " 181,\n",
       " 1699,\n",
       " 1758,\n",
       " 1896,\n",
       " 688,\n",
       " 1676,\n",
       " 992,\n",
       " 961,\n",
       " 1477,\n",
       " 71,\n",
       " 530,\n",
       " 1699,\n",
       " 531]"
      ]
     },
     "execution_count": 11,
     "metadata": {},
     "output_type": "execute_result"
    }
   ],
   "source": [
    "#Use function\n",
    "email_index = EmailToIndices(email_new,vocab)\n",
    "email_index"
   ]
  },
  {
   "cell_type": "markdown",
   "metadata": {},
   "source": [
    "### Problem 3 Extracting Features from Emails (25 pts)"
   ]
  },
  {
   "cell_type": "code",
   "execution_count": 12,
   "metadata": {
    "pycharm": {
     "name": "#%%\n"
    }
   },
   "outputs": [],
   "source": [
    "#Write Feature Extraction function\n",
    "def FeatureExtraction(indices, vocab_df):\n",
    "    feature = np.zeros(len(vocab_df), dtype=int)\n",
    "    true_index = [x - 1 for x in indices]\n",
    "    for x in true_index:\n",
    "        feature[x]=1\n",
    "    return feature"
   ]
  },
  {
   "cell_type": "code",
   "execution_count": 13,
   "metadata": {
    "pycharm": {
     "name": "#%%\n"
    }
   },
   "outputs": [
    {
     "name": "stdout",
     "output_type": "stream",
     "text": [
      "44\n",
      "1899\n"
     ]
    }
   ],
   "source": [
    "#Use function to get the feature vector\n",
    "feature = FeatureExtraction(email_index, vocab)\n",
    "\n",
    "#Report the number of nonzeros in the vector and the size of the vector\n",
    "print(feature.sum())\n",
    "print(feature.size)"
   ]
  },
  {
   "cell_type": "markdown",
   "metadata": {},
   "source": [
    "The number of nonzeros in the vector is 44 and the size of the vector is 1899. Even though there are 52 indices, some of them have duplicates, therefore the feature vector only has 44 non-zeros."
   ]
  },
  {
   "cell_type": "markdown",
   "metadata": {},
   "source": [
    "### Problem 4 Training SVM for Spam Classification (30 pts)"
   ]
  },
  {
   "cell_type": "code",
   "execution_count": 14,
   "metadata": {
    "pycharm": {
     "name": "#%%\n"
    }
   },
   "outputs": [],
   "source": [
    "#Load data\n",
    "spamTest = np.load(\"spamTest.npy\")\n",
    "spamTrain = np.load(\"spamTrain.npy\")"
   ]
  },
  {
   "cell_type": "code",
   "execution_count": 15,
   "metadata": {
    "pycharm": {
     "name": "#%%\n"
    }
   },
   "outputs": [
    {
     "name": "stdout",
     "output_type": "stream",
     "text": [
      "(4000, 1900)\n",
      "(4000, 1899)\n",
      "(4000,)\n",
      "(1000, 1900)\n",
      "(1000, 1899)\n",
      "(1000,)\n"
     ]
    }
   ],
   "source": [
    "#Extract Target of Test Set and Train Set\n",
    "y_train = spamTrain[:,-1]\n",
    "y_test = spamTest[:,-1]\n",
    "\n",
    "#Extract features of Test Set and Train Set\n",
    "X_train = spamTrain[:,:-1]\n",
    "X_test = spamTest[:, :-1]\n",
    "\n",
    "#Double check the shapes of the arrays\n",
    "print(spamTrain.shape)\n",
    "print(X_train.shape)\n",
    "print(y_train.shape)\n",
    "print(spamTest.shape)\n",
    "print(X_test.shape)\n",
    "print(y_test.shape)"
   ]
  },
  {
   "cell_type": "markdown",
   "metadata": {},
   "source": [
    "#### Part 1"
   ]
  },
  {
   "cell_type": "code",
   "execution_count": 16,
   "metadata": {
    "pycharm": {
     "name": "#%%\n"
    }
   },
   "outputs": [
    {
     "name": "stdout",
     "output_type": "stream",
     "text": [
      "When C= 0.05 , accuracy score= 0.992\n",
      "When C= 1 , accuracy score= 0.977\n",
      "When C= 2 , accuracy score= 0.974\n"
     ]
    }
   ],
   "source": [
    "#Build linear SVM classifier\n",
    "#NOT scaling the data as they are dummy variables\n",
    "C = [0.05, 1, 2]\n",
    "\n",
    "for i in C:\n",
    "    svm_clf = LinearSVC(C=i, loss = \"hinge\", random_state = 10)\n",
    "    svm_clf.fit(X_train, y_train)\n",
    "    accuracy = svm_clf.score(X_test,y_test)\n",
    "    print('When C=',i,', accuracy score=',accuracy)"
   ]
  },
  {
   "cell_type": "markdown",
   "metadata": {},
   "source": [
    "The best model is when C=0.05. It has the highest accuracy score of 0.992 on the test set."
   ]
  },
  {
   "cell_type": "markdown",
   "metadata": {},
   "source": [
    "#### Part 2"
   ]
  },
  {
   "cell_type": "code",
   "execution_count": 17,
   "metadata": {
    "pycharm": {
     "name": "#%%\n"
    }
   },
   "outputs": [
    {
     "name": "stdout",
     "output_type": "stream",
     "text": [
      "[[ 0.01187593  0.00976858  0.04649473 ... -0.06861079 -0.00977659\n",
      "   0.04555508]]\n",
      "[[0.01187593 0.00976858 0.04649473 ... 0.06861079 0.00977659 0.04555508]]\n"
     ]
    }
   ],
   "source": [
    "#Set the SVM model using the best model\n",
    "svm_clf = LinearSVC(C=0.05, loss = \"hinge\", random_state = 10)\n",
    "svm_clf.fit(X_train, y_train)\n",
    "\n",
    "#Check the feature weights of the model\n",
    "w = svm_clf.coef_\n",
    "print(w)\n",
    "\n",
    "#Get the absolute values of weights\n",
    "w_abs = abs(w)\n",
    "print(w_abs)"
   ]
  },
  {
   "cell_type": "code",
   "execution_count": 18,
   "metadata": {
    "pycharm": {
     "name": "#%%\n"
    }
   },
   "outputs": [
    {
     "name": "stdout",
     "output_type": "stream",
     "text": [
      "(1, 1899)\n",
      "(1899,)\n",
      "[0.0119 0.0098 0.0465 ... 0.0686 0.0098 0.0456]\n"
     ]
    }
   ],
   "source": [
    "#Check shape of the array for the absolute values of weight\n",
    "print(w_abs.shape)\n",
    "\n",
    "#Convert the abs weight array into a 1d array\n",
    "w_abs_1d = w_abs.flatten()\n",
    "print(w_abs_1d.shape)\n",
    "\n",
    "#Round the weight to make it easier to read\n",
    "w_abs_1d = np.around(w_abs_1d,4)\n",
    "print(w_abs_1d)"
   ]
  },
  {
   "cell_type": "code",
   "execution_count": 19,
   "metadata": {
    "pycharm": {
     "name": "#%%\n"
    }
   },
   "outputs": [
    {
     "data": {
      "text/plain": [
       "Text(0.5, 1.0, 'Absolute values of w (weights) versus its indices')"
      ]
     },
     "execution_count": 19,
     "metadata": {},
     "output_type": "execute_result"
    },
    {
     "data": {
      "image/png": "[encoded data removed]",
      "text/plain": [
       "<Figure size 432x288 with 1 Axes>"
      ]
     },
     "metadata": {
      "needs_background": "light"
     },
     "output_type": "display_data"
    }
   ],
   "source": [
    "#Make a Plot of the abs weight and its indices\n",
    "indices = np.arange(0,1899,1)\n",
    "plt.plot(indices,w_abs_1d,\".\", markersize=5)\n",
    "plt.xlabel(\"Indices\")\n",
    "plt.ylabel(\"Absolute values of w (weights)\")\n",
    "plt.title(\"Absolute values of w (weights) versus its indices\")"
   ]
  },
  {
   "cell_type": "markdown",
   "metadata": {
    "pycharm": {
     "name": "#%% md\n"
    }
   },
   "source": [
    "As shown in the plot above, some of the weights are significantly larger than the rest of the weights. So some of the words are particularly predictive of spam."
   ]
  },
  {
   "cell_type": "code",
   "execution_count": 20,
   "metadata": {
    "pycharm": {
     "name": "#%%\n"
    }
   },
   "outputs": [
    {
     "data": {
      "text/plain": [
       "array([0.4906, 0.43  , 0.3963, 0.3935, 0.3793, 0.3633, 0.362 , 0.3471,\n",
       "       0.3441, 0.323 , 0.3089, 0.2926, 0.2837, 0.2807, 0.2782])"
      ]
     },
     "execution_count": 20,
     "metadata": {},
     "output_type": "execute_result"
    }
   ],
   "source": [
    "#See the values of the largest 15 weights\n",
    "order = -np.sort(-w_abs_1d)\n",
    "order[:15]"
   ]
  },
  {
   "cell_type": "code",
   "execution_count": 21,
   "metadata": {
    "pycharm": {
     "name": "#%%\n"
    }
   },
   "outputs": [
    {
     "data": {
      "text/plain": [
       "array([['spamassassin', 0.4906],\n",
       "       ['click', 0.43],\n",
       "       ['remov', 0.3963],\n",
       "       ['our', 0.3935],\n",
       "       ['wrote', 0.3793],\n",
       "       ['url', 0.3633],\n",
       "       ['the', 0.362],\n",
       "       ['basenumb', 0.3471],\n",
       "       ['guarante', 0.3441],\n",
       "       ['date', 0.323],\n",
       "       ['visit', 0.3089],\n",
       "       ['dollar', 0.2926],\n",
       "       ['httpaddr', 0.2837],\n",
       "       ['list', 0.2807],\n",
       "       ['numbertnumb', 0.2782]], dtype=object)"
      ]
     },
     "execution_count": 21,
     "metadata": {},
     "output_type": "execute_result"
    }
   ],
   "source": [
    "#Stack the weight with the vocab list\n",
    "vocab_weight = np.column_stack((vocab,w_abs_1d))\n",
    "#Sort in descending order by the weight column\n",
    "vocab_weight_des = vocab_weight[vocab_weight[:,2].argsort()[::-1]]\n",
    "#Show the 15 words with the biggest weights, in descending order\n",
    "vocab_weight_des[:15,-2:]"
   ]
  },
  {
   "cell_type": "code",
   "execution_count": 22,
   "metadata": {},
   "outputs": [
    {
     "name": "stdout",
     "output_type": "stream",
     "text": [
      "The 15 most predictive words of spam are ['spamassassin' 'click' 'remov' 'our' 'wrote' 'url' 'the' 'basenumb'\n",
      " 'guarante' 'date' 'visit' 'dollar' 'httpaddr' 'list' 'numbertnumb']\n"
     ]
    }
   ],
   "source": [
    "print('The 15 most predictive words of spam are', vocab_weight_des[:15,-2])"
   ]
  }
 ],
 "metadata": {
  "kernelspec": {
   "display_name": "Python 3",
   "language": "python",
   "name": "python3"
  },
  "language_info": {
   "codemirror_mode": {
    "name": "ipython",
    "version": 3
   },
   "file_extension": ".py",
   "mimetype": "text/x-python",
   "name": "python",
   "nbconvert_exporter": "python",
   "pygments_lexer": "ipython3",
   "version": "3.8.8"
  },
  "latex_envs": {
   "LaTeX_envs_menu_present": true,
   "autoclose": false,
   "autocomplete": true,
   "bibliofile": "biblio.bib",
   "cite_by": "apalike",
   "current_citInitial": 1,
   "eqLabelWithNumbers": true,
   "eqNumInitial": 1,
   "hotkeys": {
    "equation": "Ctrl-E",
    "itemize": "Ctrl-I"
   },
   "labels_anchors": false,
   "latex_user_defs": false,
   "report_style_numbering": false,
   "user_envs_cfg": false
  }
 },
 "nbformat": 4,
 "nbformat_minor": 1
}
