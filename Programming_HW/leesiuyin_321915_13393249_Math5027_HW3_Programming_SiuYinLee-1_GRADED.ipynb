{
 "cells": [
  {
   "cell_type": "markdown",
   "metadata": {},
   "source": [
    "<font color='red'>\n",
    "Grade: A\n",
    "    \n",
    "Problem 1: \n",
    "    \n",
    "Part (a): Good\n",
    "    \n",
    "Part (b): Good  \n",
    "    \n",
    "Part (c): Good    \n",
    "    \n",
    "Problem 2\n",
    "    \n",
    "Part (a): Good\n",
    "    \n",
    "Part (b): Good    \n",
    "    \n",
    "Problem 3\n",
    "    \n",
    "Part (a): Good\n",
    "    \n",
    "Part (b): Good\n",
    "    \n",
    "Part (c): Good\n",
    "    \n",
    "Part (d): Good"
   ]
  },
  {
   "cell_type": "code",
   "execution_count": 1,
   "metadata": {},
   "outputs": [],
   "source": [
    "#Import library\n",
    "\n",
    "import numpy as np\n",
    "import scipy as sp\n",
    "import pandas as pd\n",
    "import sklearn.linear_model\n",
    "import matplotlib.pyplot as plt\n",
    "%matplotlib inline\n",
    "from sklearn.metrics import mean_squared_error\n",
    "from sklearn.preprocessing import PolynomialFeatures\n",
    "from sklearn.preprocessing import StandardScaler\n",
    "from sklearn.svm import LinearSVC\n",
    "from sklearn.pipeline import Pipeline\n",
    "from sklearn.svm import SVC\n",
    "from sklearn.model_selection import train_test_split\n",
    "from sklearn.linear_model import LogisticRegression\n",
    "from sklearn.metrics import accuracy_score, confusion_matrix, precision_score, recall_score, f1_score, roc_curve, roc_auc_score, precision_recall_curve, auc"
   ]
  },
  {
   "cell_type": "markdown",
   "metadata": {},
   "source": [
    "## Problem 1"
   ]
  },
  {
   "cell_type": "code",
   "execution_count": 2,
   "metadata": {},
   "outputs": [
    {
     "name": "stdout",
     "output_type": "stream",
     "text": [
      "/Users/yaningliu/OneDrive - The University of Colorado Denver/CUDenver_Courses/MATH40275027_MachineLearning_Spring2021/Homework/StudentHW/HW3-Sec001\n"
     ]
    }
   ],
   "source": [
    "#Check Working directory location\n",
    "import os\n",
    "print(os.getcwd())"
   ]
  },
  {
   "cell_type": "code",
   "execution_count": 3,
   "metadata": {},
   "outputs": [
    {
     "data": {
      "text/plain": [
       "x1    51\n",
       "x2    51\n",
       "y     51\n",
       "dtype: int64"
      ]
     },
     "execution_count": 3,
     "metadata": {},
     "output_type": "execute_result"
    }
   ],
   "source": [
    "#Read file and set column names\n",
    "p1df = pd.read_table('Data/HW3P1.txt',  delimiter=' ', names=[\"x1\",\"x2\",\"y\"])\n",
    "\n",
    "#look at the head and count of the dataset\n",
    "p1df.head()\n",
    "p1df.count()"
   ]
  },
  {
   "cell_type": "markdown",
   "metadata": {},
   "source": [
    "#### (1a) Plot the training data, each class with a different color and marker"
   ]
  },
  {
   "cell_type": "code",
   "execution_count": 4,
   "metadata": {},
   "outputs": [
    {
     "name": "stdout",
     "output_type": "stream",
     "text": [
      "x1    21\n",
      "x2    21\n",
      "y     21\n",
      "dtype: int64\n",
      "x1    30\n",
      "x2    30\n",
      "y     30\n",
      "dtype: int64\n"
     ]
    },
    {
     "data": {
      "text/plain": [
       "Text(0.5, 1.0, 'x1 and x2 values of class One and class Zero')"
      ]
     },
     "execution_count": 4,
     "metadata": {},
     "output_type": "execute_result"
    },
    {
     "data": {
      "image/png": "[encoded data removed]",
      "text/plain": [
       "<Figure size 432x288 with 1 Axes>"
      ]
     },
     "metadata": {
      "needs_background": "light"
     },
     "output_type": "display_data"
    }
   ],
   "source": [
    "#Split the df into two classes based on label 1 and 0\n",
    "One = p1df[p1df['y'] == 1]\n",
    "Zero = p1df[p1df['y'] == 0]\n",
    "#Check count\n",
    "print(One.count())\n",
    "print(Zero.count())\n",
    "\n",
    "plt.scatter(One['x1'], One['x2'], label = 'One', marker = 'x')\n",
    "plt.scatter(Zero['x1'], Zero['x2'], label = 'Zero', marker = 'o')\n",
    "plt.legend(loc = 'lower left')\n",
    "plt.xlabel('x1')\n",
    "plt.ylabel('x2')\n",
    "plt.title('x1 and x2 values of class One and class Zero', pad = 15)"
   ]
  },
  {
   "cell_type": "markdown",
   "metadata": {},
   "source": [
    "#### (1b) Build two linear SVM classifiers, one with  𝐶=1  and one with  𝐶=100 . Plot the decision boundary for each case along with the training data."
   ]
  },
  {
   "cell_type": "code",
   "execution_count": 5,
   "metadata": {},
   "outputs": [],
   "source": [
    "# Build linear svm classifier with c=1 and c=100\n",
    "# Build a pipeline that first scales data and then trains the model\n",
    "\n",
    "svm_clf_c1 = Pipeline([\n",
    "    (\"scaler_c1\", StandardScaler()),\n",
    "    (\"linear_svc_c1\", LinearSVC(C=1, loss=\"hinge\", random_state=1)),\n",
    "])\n",
    "\n",
    "svm_clf_c100 = Pipeline([\n",
    "    (\"scaler_c100\", StandardScaler()),\n",
    "    (\"linear_svc_c100\", LinearSVC(C=100, loss=\"hinge\", random_state=100, max_iter=100000)),\n",
    "])"
   ]
  },
  {
   "cell_type": "code",
   "execution_count": 6,
   "metadata": {},
   "outputs": [],
   "source": [
    "# Define X features (use first 2 columns) and y response (last column)\n",
    "X = p1df.iloc[:, :2]\n",
    "y = p1df.iloc[:, -1]"
   ]
  },
  {
   "cell_type": "code",
   "execution_count": 7,
   "metadata": {},
   "outputs": [
    {
     "data": {
      "text/plain": [
       "Pipeline(steps=[('scaler_c100', StandardScaler()),\n",
       "                ('linear_svc_c100',\n",
       "                 LinearSVC(C=100, loss='hinge', max_iter=100000,\n",
       "                           random_state=100))])"
      ]
     },
     "execution_count": 7,
     "metadata": {},
     "output_type": "execute_result"
    }
   ],
   "source": [
    "# Train the model with the two classifiers defined\n",
    "\n",
    "svm_clf_c1.fit(X, y)\n",
    "svm_clf_c100.fit(X, y)"
   ]
  },
  {
   "cell_type": "code",
   "execution_count": 8,
   "metadata": {},
   "outputs": [
    {
     "data": {
      "text/plain": [
       "Text(0.5, 1.0, 'Decision Boundaries for SVM models where C=1 and C=100')"
      ]
     },
     "execution_count": 8,
     "metadata": {},
     "output_type": "execute_result"
    },
    {
     "data": {
      "image/png": "[encoded data removed]",
      "text/plain": [
       "<Figure size 432x288 with 1 Axes>"
      ]
     },
     "metadata": {
      "needs_background": "light"
     },
     "output_type": "display_data"
    }
   ],
   "source": [
    "# Plot decision boundary\n",
    "\n",
    "# Set X-axis with scaled X\n",
    "X_scaled = svm_clf_c1[\"scaler_c1\"].transform(X) # scale the x values\n",
    "x_db = [X_scaled[:,0].min(), X_scaled[:,0].max()] # set x-axis range using the scaled x1's min and max\n",
    "\n",
    "#Find DB for the SVM model with C=1\n",
    "beta0_c1 = svm_clf_c1[\"linear_svc_c1\"].intercept_[0] # extract beta 0 from the linear svc model\n",
    "beta1_c1 = svm_clf_c1[\"linear_svc_c1\"].coef_[0][0] # extract beta 1\n",
    "beta2_c1 = svm_clf_c1[\"linear_svc_c1\"].coef_[0][1] # extract beta 2\n",
    "y_db_c1 = - (beta0_c1 + np.dot(beta1_c1, x_db)) / beta2_c1 # to find db we set linear function's y to zero then solve for x2\n",
    "\n",
    "#Find DB for the SVM model with C=100\n",
    "beta0_c100 = svm_clf_c100[\"linear_svc_c100\"].intercept_[0]\n",
    "beta1_c100 = svm_clf_c100[\"linear_svc_c100\"].coef_[0][0] \n",
    "beta2_c100 = svm_clf_c100[\"linear_svc_c100\"].coef_[0][1] \n",
    "y_db_c100 = - (beta0_c100 + np.dot(beta1_c100, x_db)) / beta2_c100 \n",
    "\n",
    "#Within X_scaled, Filter out class 1, use first column as x-values in plot, 2nd column as y-values in plot\n",
    "plt.scatter(X_scaled[p1df[\"y\"]==1, 0], X_scaled[p1df[\"y\"]==1, 1], marker='x', label='Class 1')\n",
    "#Within X_scaled, Filter out class 0, use first column as x-values in plot, 2nd column as y-values in plot\n",
    "plt.scatter(X_scaled[p1df[\"y\"]==0, 0], X_scaled[p1df[\"y\"]==0, 1], marker='o', label='Class 0')\n",
    "#Plot decision boundaries for SVM models where C=1 and C=100\n",
    "plt.plot(x_db, y_db_c1, label=\"DB_c1\", c='r')\n",
    "plt.plot(x_db, y_db_c100, label=\"DB_c100\", c='g')\n",
    "plt.legend()\n",
    "plt.xlabel('x1')\n",
    "plt.ylabel('x2')\n",
    "plt.title('Decision Boundaries for SVM models where C=1 and C=100', pad = 15)"
   ]
  },
  {
   "cell_type": "markdown",
   "metadata": {},
   "source": [
    "#### (1c) Interpretate what leads to the different behavior of the two models (and thus the decision boundaries)"
   ]
  },
  {
   "cell_type": "markdown",
   "metadata": {},
   "source": [
    "Ans: C is the regularization parameter for SVM models. When C is small, we tolerate more errors on the wrong side/inside of margin and tend towards underfitting. When c=1, we see that there is one class 1 point on the wrong side. It is because that point is like an outlier. In order to make the model generalize well and not overfit, we tolerate the error.\n",
    "When C is big, we have less tolerance with errors. The bigger C gets, the closer we get to a hard margin and tend towards overfitting. Therefore, we see that when c=100, the previous error/outlier point is not tolerated and forced out."
   ]
  },
  {
   "cell_type": "markdown",
   "metadata": {},
   "source": [
    "## Problem 2"
   ]
  },
  {
   "cell_type": "code",
   "execution_count": 9,
   "metadata": {
    "scrolled": true
   },
   "outputs": [
    {
     "data": {
      "text/plain": [
       "x1    863\n",
       "x2    863\n",
       "y     863\n",
       "dtype: int64"
      ]
     },
     "execution_count": 9,
     "metadata": {},
     "output_type": "execute_result"
    }
   ],
   "source": [
    "#Read file and set column names\n",
    "p2df = pd.read_table('Data/HW3P2.txt',  delimiter=' ', names=[\"x1\",\"x2\",\"y\"])\n",
    "\n",
    "#look at the head and count of the dataset\n",
    "p2df.head()\n",
    "p2df.count()"
   ]
  },
  {
   "cell_type": "markdown",
   "metadata": {},
   "source": [
    "#### (2a) Plot the training data, each class with a different color and marker. Is the dataset linearly separable?"
   ]
  },
  {
   "cell_type": "markdown",
   "metadata": {},
   "source": [
    "No, the dataset is not linearly separable. See plot below."
   ]
  },
  {
   "cell_type": "code",
   "execution_count": 10,
   "metadata": {},
   "outputs": [
    {
     "name": "stdout",
     "output_type": "stream",
     "text": [
      "x1    480\n",
      "x2    480\n",
      "y     480\n",
      "dtype: int64\n",
      "x1    383\n",
      "x2    383\n",
      "y     383\n",
      "dtype: int64\n"
     ]
    },
    {
     "data": {
      "text/plain": [
       "Text(0.5, 1.0, 'x1 and x2 values of class One and class Zero')"
      ]
     },
     "execution_count": 10,
     "metadata": {},
     "output_type": "execute_result"
    },
    {
     "data": {
      "image/png": "[encoded data removed]",
      "text/plain": [
       "<Figure size 432x288 with 1 Axes>"
      ]
     },
     "metadata": {
      "needs_background": "light"
     },
     "output_type": "display_data"
    }
   ],
   "source": [
    "#Split the df into two classes based on label 1 and 0\n",
    "One = p2df[p2df['y'] == 1]\n",
    "Zero = p2df[p2df['y'] == 0]\n",
    "#Check count\n",
    "print(One.count())\n",
    "print(Zero.count())\n",
    "\n",
    "plt.scatter(One['x1'], One['x2'], label = 'One', marker = 'x')\n",
    "plt.scatter(Zero['x1'], Zero['x2'], label = 'Zero', marker = 'o')\n",
    "plt.legend(loc = 'upper right')\n",
    "plt.xlabel('x1')\n",
    "plt.ylabel('x2')\n",
    "plt.title('x1 and x2 values of class One and class Zero', pad = 15)"
   ]
  },
  {
   "cell_type": "markdown",
   "metadata": {},
   "source": [
    "#### (2b) Train a SVM using the RBF kernel. Adjust the parameter C to learn a decision boundary that performs well. Plot the decsion boundary."
   ]
  },
  {
   "cell_type": "code",
   "execution_count": 11,
   "metadata": {},
   "outputs": [
    {
     "data": {
      "text/plain": [
       "Pipeline(steps=[('scaler', StandardScaler()), ('svm_clf', SVC(C=100, coef0=3))])"
      ]
     },
     "execution_count": 11,
     "metadata": {},
     "output_type": "execute_result"
    }
   ],
   "source": [
    "# Define X features (use first 2 columns) and y response (last column)\n",
    "X = p2df.iloc[:, :2]\n",
    "y = p2df.iloc[:, -1]\n",
    "\n",
    "kernel_clf = Pipeline([\n",
    "    (\"scaler\", StandardScaler()),\n",
    "    (\"svm_clf\", SVC(kernel=\"rbf\", coef0=3, C=100))\n",
    "])\n",
    "kernel_clf.fit(X,y)"
   ]
  },
  {
   "cell_type": "code",
   "execution_count": 12,
   "metadata": {},
   "outputs": [
    {
     "data": {
      "text/plain": [
       "Text(0.5, 1.0, 'Decision Boundaries for SVM models using RBF kernel where C=100')"
      ]
     },
     "execution_count": 12,
     "metadata": {},
     "output_type": "execute_result"
    },
    {
     "data": {
      "image/png": "[encoded data removed]",
      "text/plain": [
       "<Figure size 432x288 with 1 Axes>"
      ]
     },
     "metadata": {
      "needs_background": "light"
     },
     "output_type": "display_data"
    }
   ],
   "source": [
    "# Plot the decision boundary\n",
    "\n",
    "# generate grid\n",
    "x1 = np.linspace(0, 1, 400)\n",
    "x2 = np.linspace(0, 1, 400)\n",
    "X1, X2 = np.meshgrid(x1,x2)\n",
    "\n",
    "# flatten X1 and X2\n",
    "r1, r2 = X1.flatten(), X2.flatten() #shape = (160k,)\n",
    "\n",
    "# make r1 and r2 2D\n",
    "r1, r2 = r1.reshape((len(r1),1)), r2.reshape((len(r2),1)) #shape = (160k,1)\n",
    "\n",
    "# horizontally stack r1 and r2\n",
    "grid = np.hstack((r1,r2)) #shape = (160k,2)\n",
    "\n",
    "# now grid is a feature matrix\n",
    "# get predicted labels for grid\n",
    "yhat = kernel_clf.predict(grid) #for each combination of x1 and x2 in the grid, predict 1 or 0 using defined model\n",
    "\n",
    "# reshape yhat so that it has the same shape as X1 and X2 (which is 400,400 here)\n",
    "ZZ = yhat.reshape(X1.shape)\n",
    "\n",
    "# Plot contour graph with 2 color based on ZZ/yhat's values\n",
    "plt.contourf(X1, X2, ZZ, cmap = 'Paired')\n",
    "\n",
    "#Within X, Filter out class 1, use first column as x-values in plot, 2nd column as y-values in plot\n",
    "plt.scatter(One.iloc[:,0], One.iloc[:,1], marker='x', label='Class 1', s=15)\n",
    "#Within X, Filter out class 0, use first column as x-values in plot, 2nd column as y-values in plot\n",
    "plt.scatter(Zero.iloc[:,0], Zero.iloc[:,1], marker='o', label='Class 0', s=15)\n",
    "plt.legend()\n",
    "plt.xlabel('x1')\n",
    "plt.ylabel('x2')\n",
    "plt.title('Decision Boundaries for SVM models using RBF kernel where C=100', pad = 15)"
   ]
  },
  {
   "cell_type": "markdown",
   "metadata": {},
   "source": [
    "## Problem 3"
   ]
  },
  {
   "cell_type": "markdown",
   "metadata": {},
   "source": [
    "#### (3a) Prepare the data. Get the feature matrix, target vector (good wines are labled 1, and 0 for bad wines). Also note that the data are separated by \";\". Split the data into training and testing parts using train_test_split (). Set the parameters so that  20%  of the data are used as test data. Also set the random_state to 30, so that everyone gets the same splitting"
   ]
  },
  {
   "cell_type": "code",
   "execution_count": 13,
   "metadata": {},
   "outputs": [],
   "source": [
    "# Read file\n",
    "p3df = pd.read_csv('Data/winequality-red.csv',  delimiter=';')\n",
    "\n",
    "# see head to check\n",
    "p3df.head()\n",
    "\n",
    "# Convert pd dataframe to numpy array\n",
    "p3np = p3df.to_numpy()\n",
    "\n",
    "# Define X feature matrix\n",
    "X = p3np[:, :-1]\n",
    "\n",
    "# Define y with 1 (quality >5) and 0 (quality =< 5)\n",
    "y = (p3np[:,-1] >5).astype(np.int)\n",
    "\n",
    "# Split data into training/test set. Use 20% for test set, with random state =30\n",
    "X_train, X_test, y_train, y_test = train_test_split( X, y, test_size=0.2, random_state=30)\n"
   ]
  },
  {
   "cell_type": "markdown",
   "metadata": {},
   "source": [
    "#### (3b) Build a logistic regression model for your training data. Use all default parameters, except setting solver to 'liblinear'. Also scale the data before building the model. Report the precision, recall and F1 for the testing data"
   ]
  },
  {
   "cell_type": "code",
   "execution_count": 14,
   "metadata": {},
   "outputs": [
    {
     "data": {
      "text/plain": [
       "Pipeline(steps=[('scaler', StandardScaler()),\n",
       "                ('clf', LogisticRegression(solver='liblinear'))])"
      ]
     },
     "execution_count": 14,
     "metadata": {},
     "output_type": "execute_result"
    }
   ],
   "source": [
    "# Build a pipeline to scale the data and then run the logistic regression model\n",
    "logi_reg = Pipeline([\n",
    "    (\"scaler\", StandardScaler()),\n",
    "    (\"clf\", LogisticRegression(solver = 'liblinear'))\n",
    "])\n",
    "\n",
    "# Train the model\n",
    "logi_reg.fit(X_train, y_train)"
   ]
  },
  {
   "cell_type": "code",
   "execution_count": 15,
   "metadata": {},
   "outputs": [],
   "source": [
    "# Make prediction using test set. No need to scale X_test coz done through pipeline\n",
    "\n",
    "y_test_pred = logi_reg.predict(X_test)"
   ]
  },
  {
   "cell_type": "code",
   "execution_count": 16,
   "metadata": {},
   "outputs": [
    {
     "data": {
      "text/plain": [
       "0.765625"
      ]
     },
     "execution_count": 16,
     "metadata": {},
     "output_type": "execute_result"
    }
   ],
   "source": [
    "# See accuracy score (just for the sake of it)\n",
    "accuracy_score(y_test, y_test_pred)"
   ]
  },
  {
   "cell_type": "code",
   "execution_count": 17,
   "metadata": {},
   "outputs": [
    {
     "data": {
      "text/plain": [
       "0.7653631284916201"
      ]
     },
     "execution_count": 17,
     "metadata": {},
     "output_type": "execute_result"
    }
   ],
   "source": [
    "# See precision score\n",
    "precision_score(y_test, y_test_pred)"
   ]
  },
  {
   "cell_type": "code",
   "execution_count": 18,
   "metadata": {},
   "outputs": [
    {
     "data": {
      "text/plain": [
       "0.8058823529411765"
      ]
     },
     "execution_count": 18,
     "metadata": {},
     "output_type": "execute_result"
    }
   ],
   "source": [
    "# See recall score\n",
    "recall_score(y_test, y_test_pred)"
   ]
  },
  {
   "cell_type": "code",
   "execution_count": 19,
   "metadata": {},
   "outputs": [
    {
     "data": {
      "text/plain": [
       "0.7851002865329514"
      ]
     },
     "execution_count": 19,
     "metadata": {},
     "output_type": "execute_result"
    }
   ],
   "source": [
    "# See f1 score\n",
    "f1_score(y_test, y_test_pred)"
   ]
  },
  {
   "cell_type": "markdown",
   "metadata": {},
   "source": [
    "#### (3c) Repeat Part (b) with a support vector classifier (remember to scale data before training too). Use all default parameters."
   ]
  },
  {
   "cell_type": "code",
   "execution_count": 20,
   "metadata": {},
   "outputs": [
    {
     "data": {
      "text/plain": [
       "Pipeline(steps=[('scaler', StandardScaler()), ('svc', SVC())])"
      ]
     },
     "execution_count": 20,
     "metadata": {},
     "output_type": "execute_result"
    }
   ],
   "source": [
    "# Build a pipeline to scale the data and then run the logistic regression model\n",
    "svm_clf = Pipeline([\n",
    "    (\"scaler\", StandardScaler()),\n",
    "    (\"svc\", SVC())\n",
    "])\n",
    "\n",
    "# Train the model\n",
    "svm_clf.fit(X_train, y_train)"
   ]
  },
  {
   "cell_type": "code",
   "execution_count": 21,
   "metadata": {},
   "outputs": [],
   "source": [
    "# Make prediction using test set. No need to scale X_test coz done through pipeline\n",
    "\n",
    "y_test_pred_2 = svm_clf.predict(X_test)"
   ]
  },
  {
   "cell_type": "code",
   "execution_count": 22,
   "metadata": {},
   "outputs": [
    {
     "data": {
      "text/plain": [
       "0.796875"
      ]
     },
     "execution_count": 22,
     "metadata": {},
     "output_type": "execute_result"
    }
   ],
   "source": [
    "# See accuracy score (just for the sake of it)\n",
    "accuracy_score(y_test, y_test_pred_2)"
   ]
  },
  {
   "cell_type": "code",
   "execution_count": 23,
   "metadata": {},
   "outputs": [
    {
     "data": {
      "text/plain": [
       "0.7777777777777778"
      ]
     },
     "execution_count": 23,
     "metadata": {},
     "output_type": "execute_result"
    }
   ],
   "source": [
    "# See precision score\n",
    "precision_score(y_test, y_test_pred_2)"
   ]
  },
  {
   "cell_type": "code",
   "execution_count": 24,
   "metadata": {},
   "outputs": [
    {
     "data": {
      "text/plain": [
       "0.8647058823529412"
      ]
     },
     "execution_count": 24,
     "metadata": {},
     "output_type": "execute_result"
    }
   ],
   "source": [
    "# See recall score\n",
    "recall_score(y_test, y_test_pred_2)"
   ]
  },
  {
   "cell_type": "code",
   "execution_count": 25,
   "metadata": {},
   "outputs": [
    {
     "data": {
      "text/plain": [
       "0.818941504178273"
      ]
     },
     "execution_count": 25,
     "metadata": {},
     "output_type": "execute_result"
    }
   ],
   "source": [
    "# See f1 score\n",
    "f1_score(y_test, y_test_pred_2)"
   ]
  },
  {
   "cell_type": "markdown",
   "metadata": {},
   "source": [
    "#### (3d) Draw the ROC curves for both models from (b) and (c) on the same plot. Find the AUCs for both models too. Does one seem better than the other?"
   ]
  },
  {
   "cell_type": "markdown",
   "metadata": {},
   "source": [
    "ANS: The SVC model is better as it gives better accuracy, precision, recall, f1 and AUC."
   ]
  },
  {
   "cell_type": "code",
   "execution_count": 26,
   "metadata": {},
   "outputs": [],
   "source": [
    "# Get test_scores of the two models\n",
    "\n",
    "y_test_scores_log_reg = logi_reg.decision_function(X_test)\n",
    "y_test_scores_svc = svm_clf.decision_function(X_test)"
   ]
  },
  {
   "cell_type": "code",
   "execution_count": 27,
   "metadata": {},
   "outputs": [],
   "source": [
    "# Get roc_curve data\n",
    "\n",
    "fpr, tpr, thresholds = roc_curve(y_test, y_test_scores_log_reg)\n",
    "fpr2, tpr2, thresholds = roc_curve(y_test, y_test_scores_svc)"
   ]
  },
  {
   "cell_type": "code",
   "execution_count": 28,
   "metadata": {},
   "outputs": [
    {
     "data": {
      "text/plain": [
       "<matplotlib.legend.Legend at 0x7fedc47c8670>"
      ]
     },
     "execution_count": 28,
     "metadata": {},
     "output_type": "execute_result"
    },
    {
     "data": {
      "image/png": "[encoded data removed]",
      "text/plain": [
       "<Figure size 432x288 with 1 Axes>"
      ]
     },
     "metadata": {
      "needs_background": "light"
     },
     "output_type": "display_data"
    }
   ],
   "source": [
    "# Plot ROC curves of the two models\n",
    "\n",
    "plt.plot(fpr, tpr, label ='Logistic Regression')\n",
    "plt.plot(fpr2, tpr2, label = 'Support Vector Classifier')\n",
    "plt.plot([0,1], [0,1], 'k--')\n",
    "plt.xlabel('False positive rate')\n",
    "plt.ylabel('True positive rate (Recall)')\n",
    "plt.title('FPR and TPR of logistic regression and SVC models')\n",
    "plt.legend()"
   ]
  },
  {
   "cell_type": "code",
   "execution_count": 29,
   "metadata": {},
   "outputs": [
    {
     "name": "stdout",
     "output_type": "stream",
     "text": [
      "AUC for the logistic regression model is 0.8351764705882353\n",
      "AUC for the SVC model is 0.8536862745098039\n"
     ]
    }
   ],
   "source": [
    "# Get area under the curves (AUC) of the two models\n",
    "print(\"AUC for the logistic regression model is\", roc_auc_score(y_test, y_test_scores_log_reg))\n",
    "print(\"AUC for the SVC model is\", roc_auc_score(y_test, y_test_scores_svc))"
   ]
  }
 ],
 "metadata": {
  "kernelspec": {
   "display_name": "Python 3",
   "language": "python",
   "name": "python3"
  },
  "language_info": {
   "codemirror_mode": {
    "name": "ipython",
    "version": 3
   },
   "file_extension": ".py",
   "mimetype": "text/x-python",
   "name": "python",
   "nbconvert_exporter": "python",
   "pygments_lexer": "ipython3",
   "version": "3.8.8"
  },
  "latex_envs": {
   "LaTeX_envs_menu_present": true,
   "autoclose": false,
   "autocomplete": true,
   "bibliofile": "biblio.bib",
   "cite_by": "apalike",
   "current_citInitial": 1,
   "eqLabelWithNumbers": true,
   "eqNumInitial": 1,
   "hotkeys": {
    "equation": "Ctrl-E",
    "itemize": "Ctrl-I"
   },
   "labels_anchors": false,
   "latex_user_defs": false,
   "report_style_numbering": false,
   "user_envs_cfg": false
  },
  "toc": {
   "base_numbering": 1,
   "nav_menu": {},
   "number_sections": true,
   "sideBar": true,
   "skip_h1_title": false,
   "title_cell": "Table of Contents",
   "title_sidebar": "Contents",
   "toc_cell": false,
   "toc_position": {},
   "toc_section_display": true,
   "toc_window_display": false
  }
 },
 "nbformat": 4,
 "nbformat_minor": 4
}
