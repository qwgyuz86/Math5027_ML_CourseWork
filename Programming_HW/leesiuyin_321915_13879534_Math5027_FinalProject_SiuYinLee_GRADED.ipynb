{
 "cells": [
  {
   "cell_type": "markdown",
   "metadata": {},
   "source": [
    "<font color='red'>\n",
    "Grade: 100\n",
    "\n",
    "Part 1\n",
    "    \n",
    "(a): Good\n",
    "    \n",
    "(b): Good\n",
    "    \n",
    "Part 2: Good  \n",
    " \n",
    "Part 3: Good\n",
    "    \n",
    "Part 4: Good\n",
    "    \n",
    "Part 5: Good\n",
    "    \n",
    "Part 6\n",
    "    \n",
    "(a): Good\n",
    "    \n",
    "(b): Good\n",
    "    \n",
    "Part 7: Good\n",
    "    \n",
    "Part 8\n",
    "    \n",
    "(a): Good\n",
    "    \n",
    "(b): Good\n",
    "    \n",
    "Part 9: Good\n",
    "    \n",
    "Part 10: Good"
   ]
  },
  {
   "cell_type": "code",
   "execution_count": 1,
   "metadata": {},
   "outputs": [],
   "source": [
    "#Import library\n",
    "\n",
    "import numpy as np\n",
    "import scipy as sp\n",
    "import pandas as pd\n",
    "import sklearn.linear_model\n",
    "import matplotlib.pyplot as plt\n",
    "%matplotlib inline\n",
    "from sklearn.metrics import mean_squared_error\n",
    "from sklearn.preprocessing import PolynomialFeatures\n",
    "from sklearn.preprocessing import StandardScaler\n",
    "from sklearn.svm import LinearSVC\n",
    "from sklearn.pipeline import Pipeline\n",
    "from sklearn.svm import SVC\n",
    "from sklearn.model_selection import train_test_split\n",
    "from sklearn.linear_model import LogisticRegression\n",
    "from sklearn.metrics import accuracy_score, confusion_matrix, precision_score, recall_score, f1_score, roc_curve, roc_auc_score, precision_recall_curve, auc\n",
    "from sklearn.ensemble import AdaBoostClassifier\n",
    "from sklearn.tree import DecisionTreeClassifier\n",
    "from sklearn.model_selection import GridSearchCV\n",
    "from sklearn.model_selection import RandomizedSearchCV\n",
    "from scipy.stats import uniform\n",
    "import scipy.io as sio\n",
    "import matplotlib as mpl\n",
    "from matplotlib.pylab import rcParams\n",
    "from sklearn.decomposition import PCA\n",
    "from scipy.optimize import approx_fprime\n",
    "import re\n",
    "from scipy.optimize import fmin_cg\n",
    "from sklearn.neighbors import NearestNeighbors"
   ]
  },
  {
   "cell_type": "code",
   "execution_count": 2,
   "metadata": {
    "pycharm": {
     "name": "#%%\n"
    }
   },
   "outputs": [
    {
     "name": "stdout",
     "output_type": "stream",
     "text": [
      "/Users/siuyinlee/OneDrive/School/Math 5027 Machine Learning/Exam/Final Project\n"
     ]
    }
   ],
   "source": [
    "#Check Working directory location\n",
    "import os\n",
    "print(os.getcwd())"
   ]
  },
  {
   "cell_type": "code",
   "execution_count": 3,
   "metadata": {
    "pycharm": {
     "name": "#%%\n"
    }
   },
   "outputs": [],
   "source": [
    "#Load data\n",
    "movies = sio.loadmat(\"movies.mat\")"
   ]
  },
  {
   "cell_type": "code",
   "execution_count": 4,
   "metadata": {
    "pycharm": {
     "name": "#%%\n"
    }
   },
   "outputs": [],
   "source": [
    "#Extract the rating matrix and the mask matrix\n",
    "Y = movies[\"Y\"]\n",
    "R = movies[\"R\"]"
   ]
  },
  {
   "cell_type": "markdown",
   "metadata": {
    "pycharm": {
     "name": "#%% md\n"
    }
   },
   "source": [
    "### Part 1a - Draw a histogram of the number of movies a user rated"
   ]
  },
  {
   "cell_type": "code",
   "execution_count": 5,
   "metadata": {
    "pycharm": {
     "name": "#%%\n"
    }
   },
   "outputs": [],
   "source": [
    "Num_movies_each_user= R.sum(axis=0)"
   ]
  },
  {
   "cell_type": "code",
   "execution_count": 6,
   "metadata": {
    "pycharm": {
     "name": "#%%\n"
    }
   },
   "outputs": [
    {
     "data": {
      "text/plain": [
       "Text(0.5, 1.0, 'Histogram of the number of movies a user rated')"
      ]
     },
     "execution_count": 6,
     "metadata": {},
     "output_type": "execute_result"
    },
    {
     "data": {
      "image/png": "[encoded data removed]",
      "text/plain": [
       "<Figure size 432x288 with 1 Axes>"
      ]
     },
     "metadata": {
      "needs_background": "light"
     },
     "output_type": "display_data"
    }
   ],
   "source": [
    "plt.hist(Num_movies_each_user)\n",
    "plt.xlabel (\"Number of movies each user rated\")\n",
    "plt.ylabel (\"Number of users\")\n",
    "plt.title(\"Histogram of the number of movies a user rated\")"
   ]
  },
  {
   "cell_type": "markdown",
   "metadata": {
    "pycharm": {
     "name": "#%% md\n"
    }
   },
   "source": [
    "### Part 1b compute the average movie rating for the first movie - Toy Story with the np.mean function"
   ]
  },
  {
   "cell_type": "code",
   "execution_count": 7,
   "metadata": {
    "pycharm": {
     "name": "#%%\n"
    }
   },
   "outputs": [
    {
     "data": {
      "text/plain": [
       "3.8783185840707963"
      ]
     },
     "execution_count": 7,
     "metadata": {},
     "output_type": "execute_result"
    }
   ],
   "source": [
    "#Method 1, use the rating matrix only, calculate non-zero average of each row/movie, choose the first movie\n",
    "avg_ToyStory_rate_v1 = np.mean(Y, where = Y>0, axis=1)[0]\n",
    "avg_ToyStory_rate_v1"
   ]
  },
  {
   "cell_type": "code",
   "execution_count": 8,
   "metadata": {
    "pycharm": {
     "name": "#%%\n"
    }
   },
   "outputs": [
    {
     "data": {
      "text/plain": [
       "3.8783185840707963"
      ]
     },
     "execution_count": 8,
     "metadata": {},
     "output_type": "execute_result"
    }
   ],
   "source": [
    "#Method 2, use the first row of the rating matrix and the indicator matrix, average values where the indicator value is not zero\n",
    "avg_ToyStory_rate_v2 = np.mean(Y[0,:], where = R[0,:]>0)\n",
    "avg_ToyStory_rate_v2"
   ]
  },
  {
   "cell_type": "markdown",
   "metadata": {
    "pycharm": {
     "name": "#%% md\n"
    }
   },
   "source": [
    "### Part 2 write a function using for loops to calculate the cost function of the collaborative learning algorithm."
   ]
  },
  {
   "cell_type": "code",
   "execution_count": 9,
   "metadata": {
    "pycharm": {
     "name": "#%%\n"
    }
   },
   "outputs": [],
   "source": [
    "#Load the data 'movieParams.mat'\n",
    "movieParams = sio.loadmat(\"movieParams.mat\")"
   ]
  },
  {
   "cell_type": "code",
   "execution_count": 10,
   "metadata": {
    "pycharm": {
     "name": "#%%\n"
    }
   },
   "outputs": [
    {
     "data": {
      "text/plain": [
       "dict_keys(['__header__', '__version__', '__globals__', 'X', 'Theta', 'num_users', 'num_movies', 'num_features'])"
      ]
     },
     "execution_count": 10,
     "metadata": {},
     "output_type": "execute_result"
    }
   ],
   "source": [
    "#See what's inside the data file\n",
    "movieParams.keys()"
   ]
  },
  {
   "cell_type": "code",
   "execution_count": 11,
   "metadata": {
    "pycharm": {
     "name": "#%%\n"
    }
   },
   "outputs": [
    {
     "data": {
      "text/plain": [
       "(1682, 10)"
      ]
     },
     "execution_count": 11,
     "metadata": {},
     "output_type": "execute_result"
    }
   ],
   "source": [
    "#Define feature X\n",
    "X = movieParams['X']\n",
    "X.shape"
   ]
  },
  {
   "cell_type": "code",
   "execution_count": 12,
   "metadata": {
    "pycharm": {
     "name": "#%%\n"
    }
   },
   "outputs": [
    {
     "data": {
      "text/plain": [
       "(943, 10)"
      ]
     },
     "execution_count": 12,
     "metadata": {},
     "output_type": "execute_result"
    }
   ],
   "source": [
    "#Define feature Theta\n",
    "Theta = movieParams['Theta']\n",
    "Theta.shape"
   ]
  },
  {
   "cell_type": "code",
   "execution_count": 13,
   "metadata": {
    "pycharm": {
     "name": "#%%\n"
    }
   },
   "outputs": [],
   "source": [
    "#Set values as instructed\n",
    "num_users = 4\n",
    "num_movies = 5\n",
    "num_features = 3\n",
    "params = np.concatenate([X[:num_movies,:num_features].flatten(), Theta[:num_users, :num_features].flatten()])"
   ]
  },
  {
   "cell_type": "code",
   "execution_count": 14,
   "metadata": {
    "pycharm": {
     "name": "#%%\n"
    }
   },
   "outputs": [],
   "source": [
    "#Define the cost function using matrix calculation\n",
    "def cofiCostFunc(params, Y, R, num_users, num_movies, num_features, la=0):\n",
    "    \"\"\"\n",
    "    The function using matrix form (vectorization) to compute the cost function of the\n",
    "    collaborative learning algorithm\n",
    "    Input:\n",
    "    params: a 1D numpy array of size (n_m times n_f+n_u times n_f,) that stores the values of\n",
    "            X and Theta at which the cost function will be evaluated\n",
    "    Y: the Y matrix of size (n_m, n_u) that stores the user ratings\n",
    "    R: the R indicator matrix of size (n_m, n_u)\n",
    "    num_users: scalar, the number of users, n_u\n",
    "    num_movies: scalar, the number of movies, n_m\n",
    "    num_features: scalar, the number of features n_f\n",
    "    la: scalar, set to 0 by default, not useful in this function here,\n",
    "        but it will be used later for penalized cost function\n",
    "\n",
    "    Return:\n",
    "    J: a scaler, which is the cost function value\n",
    "    \"\"\"\n",
    "    X = params[:num_movies*num_features].reshape(num_movies, num_features)\n",
    "    Theta = params[num_movies*num_features:].reshape(num_users, num_features)\n",
    "    J = 0.5*np.sum((R*X.dot(Theta.T)-Y)**2)\n",
    "    return J"
   ]
  },
  {
   "cell_type": "code",
   "execution_count": 15,
   "metadata": {
    "pycharm": {
     "name": "#%%\n"
    }
   },
   "outputs": [
    {
     "data": {
      "text/plain": [
       "22.224603725685675"
      ]
     },
     "execution_count": 15,
     "metadata": {},
     "output_type": "execute_result"
    }
   ],
   "source": [
    "#Test using the matrix calculation of the cost function\n",
    "cofiCostFunc(params, Y[:num_movies, :num_users], R[:num_movies, :num_users], num_users, num_movies, num_features, la=0)\n",
    "\n"
   ]
  },
  {
   "cell_type": "code",
   "execution_count": 16,
   "metadata": {
    "pycharm": {
     "name": "#%%\n"
    }
   },
   "outputs": [],
   "source": [
    "def cofiCostFunc_v1(params, Y, R, num_users, num_movies, num_features, la=0):\n",
    "    \"\"\"\n",
    "    The function using for loops to compute the cost function of the\n",
    "    collaborative learning algorithm\n",
    "    Input:\n",
    "    params: a 1D numpy array of size (n_m times n_f+n_u times n_f,) that stores the values of\n",
    "            X and Theta at which the cost function will be evaluated\n",
    "    Y: the Y matrix of size (n_m, n_u) that stores the user ratings\n",
    "    R: the R indicator matrix of size (n_m, n_u)\n",
    "    num_users: scalar, the number of users, n_u\n",
    "    num_movies: scalar, the number of movies, n_m\n",
    "    num_features: scalar, the number of features n_f\n",
    "    la: scalar, set to 0 by default, not useful in this function here,\n",
    "        but it will be used later for penalized cost function\n",
    "\n",
    "    Return:\n",
    "    J: a scaler, which is the cost function value\n",
    "    \"\"\"\n",
    "\n",
    "# first get X and Theta matrix from params\n",
    "    X = params[:num_movies*num_features].reshape(num_movies, num_features)\n",
    "    Theta = params[num_movies*num_features:].reshape(num_users, num_features)\n",
    "\n",
    "# Calculating the cost function value using for loop(s)\n",
    "    J=0\n",
    "    for i in range(num_movies):\n",
    "        for j in range(num_users):\n",
    "            J+=(R[i][j]*X.dot(Theta.T)[i][j]-Y[i][j])**2\n",
    "    J = J/2\n",
    "    return J"
   ]
  },
  {
   "cell_type": "code",
   "execution_count": 17,
   "metadata": {
    "pycharm": {
     "name": "#%%\n"
    }
   },
   "outputs": [
    {
     "data": {
      "text/plain": [
       "22.22460372568567"
      ]
     },
     "execution_count": 17,
     "metadata": {},
     "output_type": "execute_result"
    }
   ],
   "source": [
    "#Test for-loop cost function\n",
    "cofiCostFunc_v1(params, Y[:num_movies, :num_users], R[:num_movies, :num_users], num_users, num_movies, num_features, la=0)"
   ]
  },
  {
   "cell_type": "code",
   "execution_count": 18,
   "metadata": {
    "pycharm": {
     "name": "#%%\n"
    }
   },
   "outputs": [
    {
     "data": {
      "text/plain": [
       "22.22460372568567"
      ]
     },
     "execution_count": 18,
     "metadata": {},
     "output_type": "execute_result"
    }
   ],
   "source": [
    "# Test for-loop cost function using integers input\n",
    "cofiCostFunc_v1(params, Y[:5, :4], R[:5, :4], 4, 5, 3, la=0)"
   ]
  },
  {
   "cell_type": "code",
   "execution_count": 19,
   "metadata": {
    "pycharm": {
     "name": "#%%\n"
    }
   },
   "outputs": [
    {
     "data": {
      "text/plain": [
       "22.224603725685675"
      ]
     },
     "execution_count": 19,
     "metadata": {},
     "output_type": "execute_result"
    }
   ],
   "source": [
    "# Doublec check it's the same result as the matrix calculation\n",
    "cofiCostFunc(params, Y[:5, :4], R[:5, :4], 4, 5, 3, la=0)\n"
   ]
  },
  {
   "cell_type": "markdown",
   "metadata": {},
   "source": [
    "### Part 3 Define the gradient function"
   ]
  },
  {
   "cell_type": "code",
   "execution_count": 20,
   "metadata": {
    "pycharm": {
     "name": "#%%\n"
    }
   },
   "outputs": [],
   "source": [
    "#Define gradient function using given code\n",
    "def cofiGradientFunc(params, Y, R, num_users, num_movies, num_features, la=0):\n",
    "    \"\"\"\n",
    "    The function using matrix form (vectorization) to compute the gradient\n",
    "    of the cost function of the collaborative learning algorithm\n",
    "    Input:\n",
    "    params: a 1D numpy array of size (n_m times n_f+n_u times n_f,) that stores the values of\n",
    "            X and Theta at which the cost function will be evaluated\n",
    "    Y: the Y matrix of size (n_m, n_u) that stores the user ratings\n",
    "    R: the R indicator matrix of size (n_m, n_u)\n",
    "    num_users: scalar, the number of users, n_u\n",
    "    num_movies: scalar, the number of movies, n_m\n",
    "    num_features: scalar, the number of features n_f\n",
    "    la: scalar, set to 0 by default, not useful in this function here,\n",
    "        but it will be used later for penalized gradient function\n",
    "\n",
    "    Return:\n",
    "    J: a 1D numpy array of the same size as params, which is the gradient vector\n",
    "    \"\"\"\n",
    "    X = params[:num_movies*num_features].reshape(num_movies, num_features)\n",
    "    Theta = params[num_movies*num_features:].reshape(num_users, num_features)\n",
    "    X_grad = (R*(X.dot(Theta.T)-Y)).dot(Theta)\n",
    "    Theta_grad = (R*(X.dot(Theta.T)-Y)).T.dot(X)\n",
    "    grad = np.concatenate([X_grad.flatten(), Theta_grad.flatten()])\n",
    "    return grad"
   ]
  },
  {
   "cell_type": "code",
   "execution_count": 21,
   "metadata": {
    "pycharm": {
     "name": "#%%\n"
    }
   },
   "outputs": [
    {
     "data": {
      "text/plain": [
       "array([ -2.52899165,   7.57570308,  -1.89979026,  -0.56819597,\n",
       "         3.35265031,  -0.52339845,  -0.83240713,   4.91163297,\n",
       "        -0.76677878,  -0.38358278,   2.26333698,  -0.35334048,\n",
       "        -0.80378006,   4.74271842,  -0.74040871, -10.5680202 ,\n",
       "         4.62776019,  -7.16004443,  -3.05099006,   1.16441367,\n",
       "        -3.47410789,   0.        ,   0.        ,   0.        ,\n",
       "         0.        ,   0.        ,   0.        ])"
      ]
     },
     "execution_count": 21,
     "metadata": {},
     "output_type": "execute_result"
    }
   ],
   "source": [
    "#Test gradient function using parameters given in Part 2\n",
    "cofiGradientFunc(params, Y[:5, :4], R[:5, :4], 4, 5, 3, la=0)\n"
   ]
  },
  {
   "cell_type": "code",
   "execution_count": 22,
   "metadata": {
    "pycharm": {
     "name": "#%%\n"
    }
   },
   "outputs": [
    {
     "data": {
      "text/plain": [
       "array([ -2.52882339,   7.57722481,  -1.8997053 ,  -0.56815523,\n",
       "         3.35406869,  -0.52336389,  -0.83236639,   4.91305134,\n",
       "        -0.76674421,  -0.38354205,   2.26475536,  -0.35330591,\n",
       "        -0.80373932,   4.7441368 ,  -0.74037414, -10.56641733,\n",
       "         4.62839051,  -7.1588951 ,  -3.05044019,   1.16449376,\n",
       "        -3.47339493,   0.        ,   0.        ,   0.        ,\n",
       "         0.        ,   0.        ,   0.        ])"
      ]
     },
     "execution_count": 22,
     "metadata": {},
     "output_type": "execute_result"
    }
   ],
   "source": [
    "#Check gradient function calculation using approx_fprime function of scipy\n",
    "approx_fprime(params, cofiCostFunc, 0.001, Y[:5, :4], R[:5, :4], 4, 5, 3)"
   ]
  },
  {
   "cell_type": "markdown",
   "metadata": {
    "pycharm": {
     "name": "#%% md\n"
    }
   },
   "source": [
    "### Part 4 Write a Regularized cost function using for-loop"
   ]
  },
  {
   "cell_type": "code",
   "execution_count": 23,
   "metadata": {
    "pycharm": {
     "name": "#%%\n"
    }
   },
   "outputs": [],
   "source": [
    "#define the provided cofiCostFunc_Reguarlized\n",
    "\n",
    "def cofiCostFunc_Regularized(params, Y, R, num_users, num_movies, num_features, la):\n",
    "    \"\"\"\n",
    "    The function using matrix form (vectorization) to compute the penalized\n",
    "    cost function of the collaborative learning algorithm\n",
    "\n",
    "    Input:\n",
    "    params: a 1D numpy array of size (n_m times n_f+n_u times n_f,) that stores the values of\n",
    "            X and Theta at which the penalized cost function will be evaluated\n",
    "    Y: the Y matrix of size (n_m, n_u) that stores the user ratings\n",
    "    R: the R indicator matrix of size (n_m, n_u)\n",
    "    num_users: scalar, the number of users, n_u\n",
    "    num_movies: scalar, the number of movies, n_m\n",
    "    num_features: scalar, the number of features n_f\n",
    "    la: scalar, the penalization coefficient\n",
    "\n",
    "    Return:\n",
    "    J: scalar, the penalized cost function\n",
    "    \"\"\"\n",
    "    X = params[:num_movies*num_features].reshape(num_movies, num_features)\n",
    "    Theta = params[num_movies*num_features:].reshape(num_users, num_features)\n",
    "    J = 0.5*np.sum((R*X.dot(Theta.T)-Y)**2)\n",
    "\n",
    "    J = J + la/2*(np.sum(X**2) + np.sum(Theta**2))\n",
    "\n",
    "    return J"
   ]
  },
  {
   "cell_type": "code",
   "execution_count": 24,
   "metadata": {
    "pycharm": {
     "name": "#%%\n"
    }
   },
   "outputs": [],
   "source": [
    "#Write the regularized cost function using for-loop\n",
    "def cofiCostFunc_v2(params, Y, R, num_users, num_movies, num_features, la=0):\n",
    "    \"\"\"\n",
    "    The function using for loops to compute the cost function of the\n",
    "    collaborative learning algorithm\n",
    "    Input:\n",
    "    params: a 1D numpy array of size (n_m times n_f+n_u times n_f,) that stores the values of\n",
    "            X and Theta at which the cost function will be evaluated\n",
    "    Y: the Y matrix of size (n_m, n_u) that stores the user ratings\n",
    "    R: the R indicator matrix of size (n_m, n_u)\n",
    "    num_users: scalar, the number of users, n_u\n",
    "    num_movies: scalar, the number of movies, n_m\n",
    "    num_features: scalar, the number of features n_f\n",
    "    la: scalar, set to 0 by default, not useful in this function here,\n",
    "        but it will be used later for penalized cost function\n",
    "\n",
    "    Return:\n",
    "    J: a scaler, which is the cost function value\n",
    "    \"\"\"\n",
    "\n",
    "# first get X and Theta matrix from params\n",
    "    X = params[:num_movies*num_features].reshape(num_movies, num_features)\n",
    "    Theta = params[num_movies*num_features:].reshape(num_users, num_features)\n",
    "\n",
    "# Calculating the cost function value using for loop(s)\n",
    "    J=0\n",
    "    for i in range(num_movies):\n",
    "        for j in range(num_users):\n",
    "            J+=(R[i][j]*X.dot(Theta.T)[i][j]-Y[i][j])**2\n",
    "    J = J/2\n",
    "\n",
    "# Calculate penalized term 1\n",
    "    P1 = 0\n",
    "    for i in range(num_movies):\n",
    "        for j in range(num_features):\n",
    "            P1+= (X[i][j])**2\n",
    "\n",
    "# Caulcaulate penalized term 2\n",
    "    P2 = 0\n",
    "    for i in range(num_users):\n",
    "        for j in range(num_features):\n",
    "            P2+= (Theta[i][j])**2\n",
    "\n",
    "    J = J + la/2*(P1+P2)\n",
    "    return J"
   ]
  },
  {
   "cell_type": "code",
   "execution_count": 25,
   "metadata": {
    "pycharm": {
     "name": "#%%\n"
    }
   },
   "outputs": [
    {
     "data": {
      "text/plain": [
       "31.34405624427422"
      ]
     },
     "execution_count": 25,
     "metadata": {},
     "output_type": "execute_result"
    }
   ],
   "source": [
    "#Test the provided regularized cost function with instructed value\n",
    "cofiCostFunc_Regularized(params, Y[:5, :4], R[:5, :4], 4, 5, 3, la=1.5)"
   ]
  },
  {
   "cell_type": "code",
   "execution_count": 26,
   "metadata": {
    "pycharm": {
     "name": "#%%\n"
    }
   },
   "outputs": [
    {
     "data": {
      "text/plain": [
       "31.344056244274213"
      ]
     },
     "execution_count": 26,
     "metadata": {},
     "output_type": "execute_result"
    }
   ],
   "source": [
    "#Test the written for-loop regularized cost function\n",
    "cofiCostFunc_v2(params, Y[:5, :4], R[:5, :4], 4, 5, 3, la=1.5)"
   ]
  },
  {
   "cell_type": "markdown",
   "metadata": {
    "pycharm": {
     "name": "#%% md\n"
    }
   },
   "source": [
    "### Part 5 - Regularized gradient"
   ]
  },
  {
   "cell_type": "code",
   "execution_count": 27,
   "metadata": {
    "pycharm": {
     "name": "#%%\n"
    }
   },
   "outputs": [],
   "source": [
    "#Define the provided regularized gradient function\n",
    "def cofiGradientFunc_Regularized(params, Y, R, num_users, num_movies, num_features, la):\n",
    "    \"\"\"\n",
    "    The function using matrix form (vectorization) to compute the gradient\n",
    "    of the penalized cost function of the collaborative learning algorithm\n",
    "\n",
    "    Input:\n",
    "    params: a 1D numpy array of size (n_m times n_f+n_u times n_f,) that stores the values of\n",
    "            X and Theta at which the gradient will be evaluated\n",
    "    Y: the Y matrix of size (n_m, n_u) that stores the user ratings\n",
    "    R: the R indicator matrix of size (n_m, n_u)\n",
    "    num_users: scalar, the number of users, n_u\n",
    "    num_movies: scalar, the number of movies, n_m\n",
    "    num_features: scalar, the number of features n_f\n",
    "    la: scalar, the penalization coefficient\n",
    "\n",
    "    Return:\n",
    "    grad : a 1D numpy array of the same size as params, which is the gradient vector\n",
    "    \"\"\"\n",
    "    X = params[:num_movies*num_features].reshape(num_movies, num_features)\n",
    "    Theta = params[num_movies*num_features:].reshape(num_users, num_features)\n",
    "    X_grad = (R*(X.dot(Theta.T)-Y)).dot(Theta)\n",
    "    Theta_grad = (R*(X.dot(Theta.T)-Y)).T.dot(X)\n",
    "\n",
    "    X_grad = X_grad + la*X\n",
    "    Theta_grad = Theta_grad + la*Theta\n",
    "\n",
    "    grad = np.concatenate([X_grad.flatten(), Theta_grad.flatten()])\n",
    "    return grad"
   ]
  },
  {
   "cell_type": "code",
   "execution_count": 28,
   "metadata": {
    "pycharm": {
     "name": "#%%\n"
    }
   },
   "outputs": [
    {
     "data": {
      "text/plain": [
       "array([ -0.95596339,   6.97535514,  -0.10861109,   0.60308088,\n",
       "         2.77421145,   0.25839822,   0.12985616,   4.0898522 ,\n",
       "        -0.89247334,   0.29684395,   1.06300933,   0.66738144,\n",
       "         0.60252677,   4.90185327,  -0.19747928, -10.13985478,\n",
       "         2.10136256,  -6.76563628,  -2.29347024,   0.48244098,\n",
       "        -2.99791422,  -0.64787484,  -0.71820673,   1.27006666,\n",
       "         1.09289758,  -0.40784086,   0.49026541])"
      ]
     },
     "execution_count": 28,
     "metadata": {},
     "output_type": "execute_result"
    }
   ],
   "source": [
    "#Test the provided regularized gradient function with instructed value\n",
    "cofiGradientFunc_Regularized(params, Y[:5, :4], R[:5, :4], 4, 5, 3, la=1.5)"
   ]
  },
  {
   "cell_type": "code",
   "execution_count": 29,
   "metadata": {
    "pycharm": {
     "name": "#%%\n"
    }
   },
   "outputs": [
    {
     "data": {
      "text/plain": [
       "array([ -0.95504514,   6.97762687,  -0.10777613,   0.60387162,\n",
       "         2.77637982,   0.25918279,   0.1306469 ,   4.09202057,\n",
       "        -0.89168878,   0.29763469,   1.0651777 ,   0.66816601,\n",
       "         0.60331751,   4.90402165,  -0.19669471, -10.13750191,\n",
       "         2.10274288,  -6.76373695,  -2.29217037,   0.48327107,\n",
       "        -2.99645126,  -0.64712484,  -0.71745673,   1.27081666,\n",
       "         1.09364758,  -0.40709086,   0.49101541])"
      ]
     },
     "execution_count": 29,
     "metadata": {},
     "output_type": "execute_result"
    }
   ],
   "source": [
    "# Test the gradient result with approx_fprime\n",
    "approx_fprime(params, cofiCostFunc_Regularized, 0.001, Y[:5, :4], R[:5, :4], 4, 5, 3, 1.5)"
   ]
  },
  {
   "cell_type": "markdown",
   "metadata": {
    "pycharm": {
     "name": "#%% md\n"
    }
   },
   "source": [
    "### Part 6 Add your own rating, write a for-loop, concatenate, make a scatter plot"
   ]
  },
  {
   "cell_type": "code",
   "execution_count": 30,
   "metadata": {
    "pycharm": {
     "name": "#%%\n"
    }
   },
   "outputs": [],
   "source": [
    "# Run the rating as provided"
   ]
  },
  {
   "cell_type": "code",
   "execution_count": 31,
   "metadata": {
    "pycharm": {
     "name": "#%%\n"
    }
   },
   "outputs": [],
   "source": [
    "n_m = Y.shape[0]\n",
    "my_ratings = np.zeros(n_m)\n",
    "my_ratings[0] = 4\n",
    "my_ratings[97] = 2\n",
    "my_ratings[6] = 3\n",
    "my_ratings[11] = 5\n",
    "my_ratings[53] = 4\n",
    "my_ratings[63] = 5\n",
    "my_ratings[65] = 3\n",
    "my_ratings[68] = 5\n",
    "my_ratings[182] = 4\n",
    "my_ratings[225] = 5\n",
    "my_ratings[354] = 5"
   ]
  },
  {
   "cell_type": "code",
   "execution_count": 32,
   "metadata": {
    "pycharm": {
     "name": "#%%\n"
    }
   },
   "outputs": [],
   "source": [
    "with open('movie_ids.txt', encoding=\"ISO-8859-1\") as f:\n",
    "    movies = f.readlines()"
   ]
  },
  {
   "cell_type": "markdown",
   "metadata": {
    "pycharm": {
     "name": "#%% md\n"
    }
   },
   "source": [
    "#### For-loop"
   ]
  },
  {
   "cell_type": "code",
   "execution_count": 33,
   "metadata": {
    "pycharm": {
     "name": "#%%\n"
    }
   },
   "outputs": [
    {
     "name": "stdout",
     "output_type": "stream",
     "text": [
      "Rated 4.0 for Toy Story (1995)\n",
      "\n",
      "Rated 3.0 for Twelve Monkeys (1995)\n",
      "\n",
      "Rated 5.0 for Usual Suspects, The (1995)\n",
      "\n",
      "Rated 4.0 for Outbreak (1995)\n",
      "\n",
      "Rated 5.0 for Shawshank Redemption, The (1994)\n",
      "\n",
      "Rated 3.0 for While You Were Sleeping (1995)\n",
      "\n",
      "Rated 5.0 for Forrest Gump (1994)\n",
      "\n",
      "Rated 2.0 for Silence of the Lambs, The (1991)\n",
      "\n",
      "Rated 4.0 for Alien (1979)\n",
      "\n",
      "Rated 5.0 for Die Hard 2 (1990)\n",
      "\n",
      "Rated 5.0 for Sphere (1998)\n",
      "\n"
     ]
    }
   ],
   "source": [
    "#Print the summary of rating with requested format with a for loop\n",
    "for i in np.where(my_ratings>0)[0]:\n",
    "    print(\"Rated\",my_ratings[i],\"for\",[re.sub(r'^\\d* ', '', s) for s in movies][i])"
   ]
  },
  {
   "cell_type": "markdown",
   "metadata": {
    "pycharm": {
     "name": "#%% md\n"
    }
   },
   "source": [
    "#### Concatenate"
   ]
  },
  {
   "cell_type": "code",
   "execution_count": 34,
   "metadata": {
    "pycharm": {
     "name": "#%%\n"
    }
   },
   "outputs": [],
   "source": [
    "#Convert the rating to integers to align with matrix Y's entries\n",
    "my_ratings = my_ratings.astype(int)\n",
    "#Turn it into a 2-d array\n",
    "my_ratings = my_ratings.reshape(Y.shape[0],1)\n",
    "#Concatenate my_rating to Y matix\n",
    "Y = np.concatenate((Y, my_ratings), axis=1)"
   ]
  },
  {
   "cell_type": "code",
   "execution_count": 35,
   "metadata": {
    "pycharm": {
     "name": "#%%\n"
    }
   },
   "outputs": [
    {
     "data": {
      "text/plain": [
       "(1682, 944)"
      ]
     },
     "execution_count": 35,
     "metadata": {},
     "output_type": "execute_result"
    }
   ],
   "source": [
    "#Check Y-shape\n",
    "Y.shape"
   ]
  },
  {
   "cell_type": "code",
   "execution_count": 36,
   "metadata": {
    "pycharm": {
     "name": "#%%\n"
    }
   },
   "outputs": [],
   "source": [
    "#Make a column of zeros for R-matrix\n",
    "zero = np.zeros(R.shape[0])\n",
    "#Turn this column of zeros into 2-d array\n",
    "zero = zero.reshape(R.shape[0],1)\n"
   ]
  },
  {
   "cell_type": "code",
   "execution_count": 37,
   "metadata": {
    "pycharm": {
     "name": "#%%\n"
    }
   },
   "outputs": [],
   "source": [
    "#Make a list of index for rated movie\n",
    "one_index = np.where(my_ratings>0)[0]"
   ]
  },
  {
   "cell_type": "code",
   "execution_count": 38,
   "metadata": {
    "pycharm": {
     "name": "#%%\n"
    }
   },
   "outputs": [],
   "source": [
    "#Flip those one_index positions in the zero column to 1\n",
    "zero[one_index] = 1"
   ]
  },
  {
   "cell_type": "code",
   "execution_count": 39,
   "metadata": {
    "pycharm": {
     "name": "#%%\n"
    }
   },
   "outputs": [],
   "source": [
    "#Concatenate the 1-flagged zero columns to the R matrix\n",
    "R = np.concatenate((R, zero), axis=1)"
   ]
  },
  {
   "cell_type": "code",
   "execution_count": 40,
   "metadata": {
    "pycharm": {
     "name": "#%%\n"
    }
   },
   "outputs": [
    {
     "data": {
      "text/plain": [
       "(1682, 944)"
      ]
     },
     "execution_count": 40,
     "metadata": {},
     "output_type": "execute_result"
    }
   ],
   "source": [
    "#Check R shape\n",
    "R.shape\n"
   ]
  },
  {
   "cell_type": "markdown",
   "metadata": {},
   "source": [
    "#### Make a scatter plot"
   ]
  },
  {
   "cell_type": "code",
   "execution_count": 41,
   "metadata": {
    "pycharm": {
     "name": "#%%\n"
    }
   },
   "outputs": [
    {
     "data": {
      "text/plain": [
       "Text(0, 0.5, 'Ratings')"
      ]
     },
     "execution_count": 41,
     "metadata": {},
     "output_type": "execute_result"
    },
    {
     "data": {
      "image/png": "[encoded data removed]",
      "text/plain": [
       "<Figure size 432x288 with 1 Axes>"
      ]
     },
     "metadata": {
      "needs_background": "light"
     },
     "output_type": "display_data"
    }
   ],
   "source": [
    "plt.scatter(range(1682), Y[:,-1], marker=\"x\")\n",
    "plt.title(\"My movie ratings\")\n",
    "plt.xlabel(\"Movie index\")\n",
    "plt.ylabel(\"Ratings\")"
   ]
  },
  {
   "cell_type": "code",
   "execution_count": 42,
   "metadata": {
    "pycharm": {
     "name": "#%%\n"
    }
   },
   "outputs": [
    {
     "data": {
      "text/plain": [
       "Text(0, 0.5, 'Rated or not (1=yes, 0=no)')"
      ]
     },
     "execution_count": 42,
     "metadata": {},
     "output_type": "execute_result"
    },
    {
     "data": {
      "image/png": "[encoded data removed]",
      "text/plain": [
       "<Figure size 432x288 with 1 Axes>"
      ]
     },
     "metadata": {
      "needs_background": "light"
     },
     "output_type": "display_data"
    }
   ],
   "source": [
    "plt.scatter(range(1682), R[:,-1], marker=\"x\")\n",
    "plt.title(\"My rated movies\")\n",
    "plt.xlabel(\"Movie index\")\n",
    "plt.ylabel(\"Rated or not (1=yes, 0=no)\")"
   ]
  },
  {
   "cell_type": "markdown",
   "metadata": {
    "pycharm": {
     "name": "#%% md\n"
    }
   },
   "source": [
    "### Part 7 Write a function for mean-normalization"
   ]
  },
  {
   "cell_type": "code",
   "execution_count": 43,
   "metadata": {
    "pycharm": {
     "name": "#%%\n"
    }
   },
   "outputs": [],
   "source": [
    "#Write the mean-normalization function\n",
    "def mean_normalize(Y):\n",
    "    \"\"\"\n",
    "    Perform mean-normalization for Y\n",
    "    Input:\n",
    "    Y: 2D numpy array of shape (1682, 944), the original ratings (with the newly\n",
    "       added ratings by you)\n",
    "    R: 2D numpy array of shape (1682, 944), the indicator matrix. NOTE that you may not need\n",
    "       to use R to mean-normalize Y. If you don't use it, that's fine too.\n",
    "    Return:\n",
    "    Y_mean: 1d array of shape (num_movies=1682), the row means of Y\n",
    "    Y_normalized: 2d array of the same shape as Y, the mean-normalized Y.\n",
    "    \"\"\"\n",
    "\n",
    "    # make a copy of Y to prevent you directly changing Y, which will change the original data.\n",
    "    # Do not change the original R either in this function\n",
    "    Y_normalized = Y.copy()\n",
    "    Y_normalized = Y_normalized.astype(np.float64)\n",
    "    # Now complete the function\n",
    "    Y_mean = np.mean(Y, where = Y>0, axis=1)\n",
    "    for i in range(Y_normalized.shape[0]):\n",
    "        row = Y_normalized[i,:]\n",
    "        Y_normalized[i] = np.where(row>0, row - Y_mean[i], row)\n",
    "\n",
    "    return Y_mean, Y_normalized"
   ]
  },
  {
   "cell_type": "markdown",
   "metadata": {
    "pycharm": {
     "name": "#%% md\n"
    }
   },
   "source": [
    "#### Check function output"
   ]
  },
  {
   "cell_type": "code",
   "execution_count": 44,
   "metadata": {
    "pycharm": {
     "name": "#%%\n"
    }
   },
   "outputs": [],
   "source": [
    "#Define function output\n",
    "Y_mean = mean_normalize(Y)[0]\n",
    "Y_normalized = mean_normalize(Y)[1]"
   ]
  },
  {
   "cell_type": "code",
   "execution_count": 45,
   "metadata": {
    "pycharm": {
     "name": "#%%\n"
    }
   },
   "outputs": [
    {
     "data": {
      "text/plain": [
       "array([-2.35367281e-14, -8.88178420e-16,  1.06581410e-14, ...,\n",
       "        0.00000000e+00,  0.00000000e+00,  0.00000000e+00])"
      ]
     },
     "execution_count": 45,
     "metadata": {},
     "output_type": "execute_result"
    }
   ],
   "source": [
    "#Sum all rows of the Y_normalized matrix\n",
    "check = np.sum(Y_normalized, axis=1)\n",
    "check"
   ]
  },
  {
   "cell_type": "code",
   "execution_count": 46,
   "metadata": {
    "pycharm": {
     "name": "#%%\n"
    }
   },
   "outputs": [
    {
     "data": {
      "text/plain": [
       "8.542055951465954e-13"
      ]
     },
     "execution_count": 46,
     "metadata": {},
     "output_type": "execute_result"
    }
   ],
   "source": [
    "#See if the sum of all row mean equals to zero\n",
    "np.sum(check)"
   ]
  },
  {
   "cell_type": "code",
   "execution_count": 47,
   "metadata": {
    "pycharm": {
     "name": "#%%\n"
    }
   },
   "outputs": [
    {
     "data": {
      "text/plain": [
       "0"
      ]
     },
     "execution_count": 47,
     "metadata": {},
     "output_type": "execute_result"
    }
   ],
   "source": [
    "#Convert the row means to integer to count the number of non-zero\n",
    "np.count_nonzero(check.astype('int'))\n"
   ]
  },
  {
   "cell_type": "code",
   "execution_count": 48,
   "metadata": {
    "pycharm": {
     "name": "#%%\n"
    }
   },
   "outputs": [
    {
     "data": {
      "text/plain": [
       "array([3.8785872 , 3.20610687, 3.03333333, ..., 2.        , 3.        ,\n",
       "       3.        ])"
      ]
     },
     "execution_count": 48,
     "metadata": {},
     "output_type": "execute_result"
    }
   ],
   "source": [
    "#Take a look at the Y_mean\n",
    "Y_mean"
   ]
  },
  {
   "cell_type": "code",
   "execution_count": 49,
   "metadata": {
    "pycharm": {
     "name": "#%%\n"
    }
   },
   "outputs": [
    {
     "data": {
      "text/plain": [
       "array([3.8785872 , 3.20610687, 3.03333333, ..., 2.        , 3.        ,\n",
       "       3.        ])"
      ]
     },
     "execution_count": 49,
     "metadata": {},
     "output_type": "execute_result"
    }
   ],
   "source": [
    "#Y_mean should equal to this\n",
    "np.mean(Y, where = Y>0, axis=1)"
   ]
  },
  {
   "cell_type": "markdown",
   "metadata": {
    "pycharm": {
     "name": "#%% md\n"
    }
   },
   "source": [
    "### Part 8a Call cofiCostFunc_Regularized to get initial cost based on initial guess"
   ]
  },
  {
   "cell_type": "code",
   "execution_count": 50,
   "metadata": {
    "pycharm": {
     "name": "#%%\n"
    }
   },
   "outputs": [],
   "source": [
    "#Use given code\n",
    "# Set the correct parameters (constant values)\n",
    "num_users = Y.shape[1]\n",
    "num_movies = Y.shape[0]\n",
    "num_features = 10\n",
    "# initial values of X and Theta\n",
    "np.random.seed(10)\n",
    "X = np.random.normal(size=(num_movies, num_features))\n",
    "Theta = np.random.normal(size=(num_users, num_features))\n",
    "initial_guess = np.concatenate([X.flatten(), Theta.flatten()])\n",
    "la = 10"
   ]
  },
  {
   "cell_type": "code",
   "execution_count": 51,
   "metadata": {
    "pycharm": {
     "name": "#%%\n"
    }
   },
   "outputs": [
    {
     "data": {
      "text/plain": [
       "669101.3614292007"
      ]
     },
     "execution_count": 51,
     "metadata": {},
     "output_type": "execute_result"
    }
   ],
   "source": [
    "#Call the cofiCostFunc_Regularized function to see if we get expected result\n",
    "cofiCostFunc_Regularized(initial_guess, Y_normalized, R, num_users, num_movies, num_features, la)"
   ]
  },
  {
   "cell_type": "code",
   "execution_count": 52,
   "metadata": {
    "pycharm": {
     "name": "#%%\n"
    }
   },
   "outputs": [
    {
     "name": "stdout",
     "output_type": "stream",
     "text": [
      "Optimization terminated successfully.\n",
      "         Current function value: 38951.847560\n",
      "         Iterations: 425\n",
      "         Function evaluations: 641\n",
      "         Gradient evaluations: 641\n"
     ]
    }
   ],
   "source": [
    "#Use the provided code to train the model with gradient descent solver - fmin_cg\n",
    "# Start training\n",
    "result = fmin_cg(cofiCostFunc_Regularized, initial_guess,\n",
    "                 cofiGradientFunc_Regularized,\n",
    "                 args=(Y_normalized, R, num_users, num_movies, num_features, la))\n"
   ]
  },
  {
   "cell_type": "markdown",
   "metadata": {
    "pycharm": {
     "name": "#%% md\n"
    }
   },
   "source": [
    "### Part 9 - Make movie recommendations to yourself"
   ]
  },
  {
   "cell_type": "code",
   "execution_count": 53,
   "metadata": {
    "pycharm": {
     "name": "#%%\n"
    }
   },
   "outputs": [
    {
     "name": "stdout",
     "output_type": "stream",
     "text": [
      "(26260,)\n",
      "(1682, 10)\n",
      "(944, 10)\n"
     ]
    }
   ],
   "source": [
    "#Part 9.1\n",
    "#Obtain X and Theta matrices and check the shape\n",
    "X = result[:num_movies*num_features].reshape(num_movies,num_features)\n",
    "Theta = result[num_movies*num_features:].reshape(num_users, num_features)\n",
    "print(result.shape)\n",
    "print(X.shape)\n",
    "print(Theta.shape)"
   ]
  },
  {
   "cell_type": "code",
   "execution_count": 54,
   "metadata": {
    "pycharm": {
     "name": "#%%\n"
    }
   },
   "outputs": [
    {
     "data": {
      "text/plain": [
       "(1682, 944)"
      ]
     },
     "execution_count": 54,
     "metadata": {},
     "output_type": "execute_result"
    }
   ],
   "source": [
    "#Part 9.2\n",
    "#Make prediction matrix P and check it's shape\n",
    "P = X.dot(Theta.T)\n",
    "P.shape"
   ]
  },
  {
   "cell_type": "code",
   "execution_count": 55,
   "metadata": {
    "pycharm": {
     "name": "#%%\n"
    }
   },
   "outputs": [
    {
     "data": {
      "text/plain": [
       "(1682,)"
      ]
     },
     "execution_count": 55,
     "metadata": {},
     "output_type": "execute_result"
    }
   ],
   "source": [
    "#Part 9.3\n",
    "#Extract last column of P and call it p_user\n",
    "p_user = P[:,-1]\n",
    "p_user.shape"
   ]
  },
  {
   "cell_type": "code",
   "execution_count": 56,
   "metadata": {
    "pycharm": {
     "name": "#%%\n"
    }
   },
   "outputs": [],
   "source": [
    "#Add the Y_mean vector to p_user so it is back to original rating scale 1-5\n",
    "p_user = p_user + Y_mean"
   ]
  },
  {
   "cell_type": "code",
   "execution_count": 57,
   "metadata": {
    "pycharm": {
     "name": "#%%\n"
    }
   },
   "outputs": [
    {
     "data": {
      "text/plain": [
       "array([1598,  813, 1652, 1535, 1499, 1121, 1188, 1200, 1292, 1466, 1448,\n",
       "         49,   63,  118, 1397,  168, 1641, 1593,  317,  173])"
      ]
     },
     "execution_count": 57,
     "metadata": {},
     "output_type": "execute_result"
    }
   ],
   "source": [
    "#Find the index of the 20 largest values of p_user, descending order based on rating\n",
    "p_user.argsort()[::-1][:20]"
   ]
  },
  {
   "cell_type": "code",
   "execution_count": 58,
   "metadata": {
    "pycharm": {
     "name": "#%%\n"
    }
   },
   "outputs": [
    {
     "data": {
      "text/plain": [
       "array([5.        , 5.        , 5.        , 5.        , 5.        ,\n",
       "       5.        , 5.        , 5.        , 5.        , 5.        ,\n",
       "       4.64241047, 4.63341487, 4.55077899, 4.51658032, 4.5038744 ,\n",
       "       4.49918942, 4.49610997, 4.49069418, 4.48753053, 4.48321126])"
      ]
     },
     "execution_count": 58,
     "metadata": {},
     "output_type": "execute_result"
    }
   ],
   "source": [
    "#See those top 20 rating values, descending value\n",
    "p_user[p_user.argsort()[::-1][:20]]"
   ]
  },
  {
   "cell_type": "code",
   "execution_count": 59,
   "metadata": {
    "pycharm": {
     "name": "#%%\n"
    }
   },
   "outputs": [
    {
     "name": "stdout",
     "output_type": "stream",
     "text": [
      "Recommending movie Someone Else's America (1995)\n",
      " based on rating 5.0\n",
      "Recommending movie Great Day in Harlem, A (1994)\n",
      " based on rating 5.0\n",
      "Recommending movie Entertaining Angels: The Dorothy Day Story (1996)\n",
      " based on rating 5.0\n",
      "Recommending movie Aiqing wansui (1994)\n",
      " based on rating 5.0\n",
      "Recommending movie Santa with Muscles (1996)\n",
      " based on rating 5.0\n",
      "Recommending movie They Made Me a Criminal (1939)\n",
      " based on rating 5.0\n",
      "Recommending movie Prefontaine (1997)\n",
      " based on rating 5.0\n",
      "Recommending movie Marlene Dietrich: Shadow and Light (1996) \n",
      " based on rating 5.0\n",
      "Recommending movie Star Kid (1997)\n",
      " based on rating 5.0\n",
      "Recommending movie Saint of Fort Washington, The (1993)\n",
      " based on rating 5.0\n",
      "Recommending movie Pather Panchali (1955)\n",
      " based on rating 4.64\n",
      "Recommending movie Star Wars (1977)\n",
      " based on rating 4.63\n",
      "Recommending movie Shawshank Redemption, The (1994)\n",
      " based on rating 4.55\n",
      "Recommending movie Maya Lin: A Strong Clear Vision (1994)\n",
      " based on rating 4.52\n",
      "Recommending movie Anna (1996)\n",
      " based on rating 4.5\n",
      "Recommending movie Wrong Trousers, The (1993)\n",
      " based on rating 4.5\n",
      "Recommending movie Some Mother's Son (1996)\n",
      " based on rating 4.5\n",
      "Recommending movie Everest (1998)\n",
      " based on rating 4.49\n",
      "Recommending movie Schindler's List (1993)\n",
      " based on rating 4.49\n",
      "Recommending movie Raiders of the Lost Ark (1981)\n",
      " based on rating 4.48\n"
     ]
    }
   ],
   "source": [
    "#Write a for loop to print out the top 20 movies\n",
    "rec_index = p_user.argsort()[::-1][:20]\n",
    "for i in rec_index:\n",
    "    print(\"Recommending movie\",[re.sub(r'^\\d* ', '', s) for s in movies][i], \"based on rating\", np.around(p_user[i], decimals=2))"
   ]
  },
  {
   "cell_type": "markdown",
   "metadata": {
    "pycharm": {
     "name": "#%% md\n"
    }
   },
   "source": [
    "### Part 10 User-User Collaborative Filtering by KNN"
   ]
  },
  {
   "cell_type": "code",
   "execution_count": 60,
   "metadata": {
    "pycharm": {
     "name": "#%%\n"
    }
   },
   "outputs": [],
   "source": [
    "#Define the given function\n",
    "def KNNCofi(K, Y, R, movie_n, Y_col_mean):\n",
    "    \"\"\"\n",
    "    Find the K nearest neighbors of the user with ratings of the movie_n th movie\n",
    "    \"\"\"\n",
    "    data = Y[:, R[movie_n,:].astype(bool)]\n",
    "    if data.shape[1] >= K:\n",
    "        knn = NearestNeighbors(metric='cosine', algorithm='brute',\n",
    "                               n_neighbors=K, n_jobs=-1)\n",
    "    else:\n",
    "        knn = NearestNeighbors(metric='cosine', algorithm='brute',\n",
    "                               n_neighbors=data.shape[1], n_jobs=-1)\n",
    "    knn.fit(data.T)\n",
    "    neigh_dist, neigh_ind = knn.kneighbors(np.reshape(Y[:, -1], (1, num_movies)))\n",
    "    # rating_pred = np.dot(neigh_dist[0,:], data[movie_n, neigh_ind[0,:]])/(np.sum(neigh_dist[0,:]))\n",
    "    rating_pred = np.mean(data[movie_n, neigh_ind[0,:]]+Y_col_mean[R[movie_n,:].astype(bool)][neigh_ind[0,:]])\n",
    "    return rating_pred\n",
    "\n",
    "def UserUserCofi(Y, R, K=9):\n",
    "    \"\"\"\n",
    "    Y: 2D numpy array of shape (1682, 944), the original ratings (with the newly\n",
    "       added ratings by you)\n",
    "    R: 2D numpy array of shape (1682, 944), the indicator matrix. NOTE that you may not need\n",
    "       to use R to mean-normalize Y. If you don't use it, that's fine too.\n",
    "    K: integer, specify the how many nearest neighbors to use\n",
    "    Return:\n",
    "    ratings_pred: 1D array of size num_movies, the predicted ratings for all\n",
    "                the movie the user did not rate. For the movies, the user has\n",
    "                predicted, the value in ratings_pred will be zero\n",
    "    \"\"\"\n",
    "    Y_col_normalized = Y.copy()\n",
    "    Y_col_mean = np.zeros(Y.shape[1])\n",
    "    for i in range(Y.shape[1]):\n",
    "        Y_col_mean[i] = np.mean(Y[R[:, i].astype(bool), i])\n",
    "        Y_col_normalized[R[:, i].astype(bool), i] = Y[R[:, i].astype(bool), i] - Y_col_mean[i]\n",
    "\n",
    "    ratings_pred = np.zeros(Y.shape[0])\n",
    "    for i in range(Y.shape[0]):\n",
    "        if (R[i,-1] == 0):\n",
    "            ratings_pred[i] = KNNCofi(K, Y_col_normalized, R, i, Y_col_mean)\n",
    "    return ratings_pred"
   ]
  },
  {
   "cell_type": "code",
   "execution_count": 61,
   "metadata": {
    "pycharm": {
     "name": "#%%\n"
    }
   },
   "outputs": [],
   "source": [
    "#Call the UserUserCofi function with default k to get movies predicted rating for me\n",
    "User_pred = UserUserCofi(Y, R, K=9)"
   ]
  },
  {
   "cell_type": "code",
   "execution_count": 62,
   "metadata": {
    "pycharm": {
     "name": "#%%\n"
    }
   },
   "outputs": [
    {
     "data": {
      "text/plain": [
       "array([1652, 1188, 1598, 1499, 1466, 1292, 1593,  118,   49,  168,  317,\n",
       "       1535,  482,  473,   27,   85,  188,  172,  407,  704])"
      ]
     },
     "execution_count": 62,
     "metadata": {},
     "output_type": "execute_result"
    }
   ],
   "source": [
    "#Find the index of the 20 largest values of p_user, descending order based on rating\n",
    "User_pred.argsort()[::-1][:20]"
   ]
  },
  {
   "cell_type": "code",
   "execution_count": 63,
   "metadata": {
    "pycharm": {
     "name": "#%%\n"
    }
   },
   "outputs": [
    {
     "data": {
      "text/plain": [
       "array([4.70588235, 4.58591631, 4.58174905, 4.5264977 , 4.50688025,\n",
       "       4.48930309, 4.48313987, 4.3421092 , 4.33383322, 4.33216741,\n",
       "       4.32799056, 4.29537367, 4.27247352, 4.27226849, 4.26753572,\n",
       "       4.25511036, 4.2528611 , 4.23676673, 4.23310942, 4.22823553])"
      ]
     },
     "execution_count": 63,
     "metadata": {},
     "output_type": "execute_result"
    }
   ],
   "source": [
    "#See those top 20 rating values, descending value\n",
    "User_pred[User_pred.argsort()[::-1][:20]]"
   ]
  },
  {
   "cell_type": "code",
   "execution_count": 64,
   "metadata": {
    "pycharm": {
     "name": "#%%\n"
    }
   },
   "outputs": [
    {
     "name": "stdout",
     "output_type": "stream",
     "text": [
      "Recommending movie Entertaining Angels: The Dorothy Day Story (1996)\n",
      " based on rating 4.71\n",
      "Recommending movie Prefontaine (1997)\n",
      " based on rating 4.59\n",
      "Recommending movie Someone Else's America (1995)\n",
      " based on rating 4.58\n",
      "Recommending movie Santa with Muscles (1996)\n",
      " based on rating 4.53\n",
      "Recommending movie Saint of Fort Washington, The (1993)\n",
      " based on rating 4.51\n",
      "Recommending movie Star Kid (1997)\n",
      " based on rating 4.49\n",
      "Recommending movie Everest (1998)\n",
      " based on rating 4.48\n",
      "Recommending movie Maya Lin: A Strong Clear Vision (1994)\n",
      " based on rating 4.34\n",
      "Recommending movie Star Wars (1977)\n",
      " based on rating 4.33\n",
      "Recommending movie Wrong Trousers, The (1993)\n",
      " based on rating 4.33\n",
      "Recommending movie Schindler's List (1993)\n",
      " based on rating 4.33\n",
      "Recommending movie Aiqing wansui (1994)\n",
      " based on rating 4.3\n",
      "Recommending movie Casablanca (1942)\n",
      " based on rating 4.27\n",
      "Recommending movie Dr. Strangelove or: How I Learned to Stop Worrying and Love the Bomb (1963)\n",
      " based on rating 4.27\n",
      "Recommending movie Apollo 13 (1995)\n",
      " based on rating 4.27\n",
      "Recommending movie Remains of the Day, The (1993)\n",
      " based on rating 4.26\n",
      "Recommending movie Grand Day Out, A (1992)\n",
      " based on rating 4.25\n",
      "Recommending movie Princess Bride, The (1987)\n",
      " based on rating 4.24\n",
      "Recommending movie Close Shave, A (1995)\n",
      " based on rating 4.23\n",
      "Recommending movie Singin' in the Rain (1952)\n",
      " based on rating 4.23\n"
     ]
    }
   ],
   "source": [
    "#Write a for loop to print out the top 20 movies\n",
    "rec_index_2 = User_pred.argsort()[::-1][:20]\n",
    "for i in rec_index_2:\n",
    "    print(\"Recommending movie\",[re.sub(r'^\\d* ', '', s) for s in movies][i], \"based on rating\", np.around(User_pred[i], decimals=2))"
   ]
  }
 ],
 "metadata": {
  "kernelspec": {
   "display_name": "Python 3",
   "language": "python",
   "name": "python3"
  },
  "language_info": {
   "codemirror_mode": {
    "name": "ipython",
    "version": 3
   },
   "file_extension": ".py",
   "mimetype": "text/x-python",
   "name": "python",
   "nbconvert_exporter": "python",
   "pygments_lexer": "ipython3",
   "version": "3.8.8"
  },
  "latex_envs": {
   "LaTeX_envs_menu_present": true,
   "autoclose": false,
   "autocomplete": true,
   "bibliofile": "biblio.bib",
   "cite_by": "apalike",
   "current_citInitial": 1,
   "eqLabelWithNumbers": true,
   "eqNumInitial": 1,
   "hotkeys": {
    "equation": "Ctrl-E",
    "itemize": "Ctrl-I"
   },
   "labels_anchors": false,
   "latex_user_defs": false,
   "report_style_numbering": false,
   "user_envs_cfg": false
  }
 },
 "nbformat": 4,
 "nbformat_minor": 1
}
