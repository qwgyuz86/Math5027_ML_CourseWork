{
 "cells": [
  {
   "cell_type": "markdown",
   "metadata": {},
   "source": [
    "<font color='red'>\n",
    "Grade: A\n",
    "    \n",
    "Problem 1: \n",
    "    \n",
    "Part (a): Good\n",
    "    \n",
    "Part (b): Good  \n",
    "    \n",
    "Part (c): Number of epochs is not reported. Please see the solution. max_iter is not epoch\n",
    "    \n",
    "Part (d): 3.5 and 7 should be used\n",
    "    \n",
    "Part (e): Good\n",
    "    \n",
    "Problem 2\n",
    "    \n",
    "Part (a): Good\n",
    "    \n",
    "Part (b): Good\n",
    "    \n",
    "Part (c): Good\n",
    "    \n",
    "Part (d): Good\n",
    "    \n",
    "Problem 3\n",
    "    \n",
    "Part (a): Good\n",
    "    \n",
    "Part (b): Good\n",
    "    \n",
    "Part (c): Good\n",
    "    \n",
    "Part (d): Good"
   ]
  },
  {
   "cell_type": "code",
   "execution_count": 1,
   "metadata": {},
   "outputs": [],
   "source": [
    "#Import library\n",
    "\n",
    "import numpy as np\n",
    "import scipy as sp\n",
    "import pandas as pd\n",
    "import sklearn.linear_model\n",
    "import matplotlib.pyplot as plt\n",
    "%matplotlib inline\n",
    "from sklearn.metrics import mean_squared_error\n",
    "from sklearn.preprocessing import PolynomialFeatures"
   ]
  },
  {
   "cell_type": "markdown",
   "metadata": {},
   "source": [
    "## Problem 1"
   ]
  },
  {
   "cell_type": "code",
   "execution_count": 2,
   "metadata": {},
   "outputs": [
    {
     "data": {
      "text/html": [
       "<div>\n",
       "<style scoped>\n",
       "    .dataframe tbody tr th:only-of-type {\n",
       "        vertical-align: middle;\n",
       "    }\n",
       "\n",
       "    .dataframe tbody tr th {\n",
       "        vertical-align: top;\n",
       "    }\n",
       "\n",
       "    .dataframe thead th {\n",
       "        text-align: right;\n",
       "    }\n",
       "</style>\n",
       "<table border=\"1\" class=\"dataframe\">\n",
       "  <thead>\n",
       "    <tr style=\"text-align: right;\">\n",
       "      <th></th>\n",
       "      <th>Population in 10k</th>\n",
       "      <th>Profit in 10k</th>\n",
       "    </tr>\n",
       "  </thead>\n",
       "  <tbody>\n",
       "    <tr>\n",
       "      <th>0</th>\n",
       "      <td>6.1101</td>\n",
       "      <td>17.5920</td>\n",
       "    </tr>\n",
       "    <tr>\n",
       "      <th>1</th>\n",
       "      <td>5.5277</td>\n",
       "      <td>9.1302</td>\n",
       "    </tr>\n",
       "    <tr>\n",
       "      <th>2</th>\n",
       "      <td>8.5186</td>\n",
       "      <td>13.6620</td>\n",
       "    </tr>\n",
       "    <tr>\n",
       "      <th>3</th>\n",
       "      <td>7.0032</td>\n",
       "      <td>11.8540</td>\n",
       "    </tr>\n",
       "    <tr>\n",
       "      <th>4</th>\n",
       "      <td>5.8598</td>\n",
       "      <td>6.8233</td>\n",
       "    </tr>\n",
       "  </tbody>\n",
       "</table>\n",
       "</div>"
      ],
      "text/plain": [
       "   Population in 10k  Profit in 10k\n",
       "0             6.1101        17.5920\n",
       "1             5.5277         9.1302\n",
       "2             8.5186        13.6620\n",
       "3             7.0032        11.8540\n",
       "4             5.8598         6.8233"
      ]
     },
     "execution_count": 2,
     "metadata": {},
     "output_type": "execute_result"
    }
   ],
   "source": [
    "#Read file and set column names\n",
    "ft = pd.read_table('Data/foodtruck.txt', delimiter= ',', header=None, names=[\"Population in 10k\",\"Profit in 10k\"])\n",
    "\n",
    "#look at the head of the dataset\n",
    "ft.head()\n"
   ]
  },
  {
   "cell_type": "code",
   "execution_count": 3,
   "metadata": {},
   "outputs": [
    {
     "data": {
      "text/plain": [
       "<AxesSubplot:title={'center':'Profit vs Population of food truck company'}, xlabel='Population in 10k', ylabel='Profit in 10k'>"
      ]
     },
     "execution_count": 3,
     "metadata": {},
     "output_type": "execute_result"
    },
    {
     "data": {
      "image/png": "[encoded data removed]",
      "text/plain": [
       "<Figure size 432x288 with 1 Axes>"
      ]
     },
     "metadata": {
      "needs_background": "light"
     },
     "output_type": "display_data"
    }
   ],
   "source": [
    "#1a - Show a scatter plot of the data (profit vs population)\n",
    "\n",
    "ft.plot(kind='scatter', x= \"Population in 10k\", y= \"Profit in 10k\", color='b', \n",
    "        label='data', title='Profit vs Population of food truck company')"
   ]
  },
  {
   "cell_type": "code",
   "execution_count": 4,
   "metadata": {},
   "outputs": [
    {
     "name": "stdout",
     "output_type": "stream",
     "text": [
      "Beta hats for the linear model = -3.89578087831185 [1.19303364]\n",
      "RSS for this linear model is 868.5324469391846\n"
     ]
    }
   ],
   "source": [
    "# 1b - Train a linear regression model with a non-iterative method. Show the minimum cost (RSS)\n",
    "\n",
    "# Construct model\n",
    "lin_reg = sklearn.linear_model.LinearRegression()\n",
    "\n",
    "# Define x and y and make x into a 2d array\n",
    "X = np.c_[ft[\"Population in 10k\"]]\n",
    "y = ft[\"Profit in 10k\"]\n",
    "\n",
    "# Train model\n",
    "lin_reg.fit(X,y)\n",
    "\n",
    "# Take a look at model coefficients\n",
    "print('Beta hats for the linear model =',lin_reg.intercept_,lin_reg.coef_)\n",
    "\n",
    "# Get Y-hat\n",
    "y_pred = lin_reg.predict(X)\n",
    "\n",
    "# Calculate RSS\n",
    "RSS = np.sum(np.square(y-y_pred))\n",
    "print(\"RSS for this linear model is\",RSS)"
   ]
  },
  {
   "cell_type": "code",
   "execution_count": 5,
   "metadata": {},
   "outputs": [
    {
     "name": "stdout",
     "output_type": "stream",
     "text": [
      "Beta hats for the linear model using SGD = [-1.49189759] [0.8285655]\n",
      "RSS for this linear model using SGD is 1091.038482233139\n",
      "The number of epochs used in this class is 1000, as indicated by the max_iter default value\n"
     ]
    }
   ],
   "source": [
    "# 1c - Train a linear regression model with stochastic gradient descent (without regularization). \n",
    "# Show the minimum cost and \n",
    "# check the manual of the class you used to see if you can find the number of epochs before the program is finished.\n",
    "\n",
    "# Train model with SGD, change default penalty from ridge L2 to none\n",
    "sgd_reg = sklearn.linear_model.SGDRegressor(penalty=None, random_state=108)\n",
    "sgd_reg.fit(X, y)\n",
    "\n",
    "# Take a look at coef\n",
    "print('Beta hats for the linear model using SGD =',sgd_reg.intercept_, sgd_reg.coef_)\n",
    "\n",
    "# Get Y-hat\n",
    "y_pred_sgd = sgd_reg.predict(X)\n",
    "\n",
    "# Calculate RSS\n",
    "RSS_sgd = mean_squared_error(y,y_pred_sgd)*len(y)\n",
    "print(\"RSS for this linear model using SGD is\",RSS_sgd)\n",
    "\n",
    "#The number of epochs used\n",
    "print(\"The number of epochs used in this class is 1000, as indicated by the max_iter default value\")"
   ]
  },
  {
   "cell_type": "code",
   "execution_count": 6,
   "metadata": {},
   "outputs": [
    {
     "name": "stdout",
     "output_type": "stream",
     "text": [
      "For area of 35k people, profit prediction using linear model is [37.86039667] that using SGD is [27.50789486]\n",
      "For area of 70k people, profit prediction using linear model is [79.61657421] that using SGD is [56.50768731]\n"
     ]
    }
   ],
   "source": [
    "# 1d - Make predictions for profits in areas of 35000 and 70000 people\n",
    "\n",
    "# Predictions using linear model and linear model with sgd are\n",
    "pred_35_lin=lin_reg.predict([[35]])\n",
    "pred_70_lin=lin_reg.predict([[70]])\n",
    "pred_35_sgd=sgd_reg.predict([[35]])\n",
    "pred_70_sgd=sgd_reg.predict([[70]])\n",
    "\n",
    "print('For area of 35k people, profit prediction using linear model is',pred_35_lin,'that using SGD is',pred_35_sgd)\n",
    "print('For area of 70k people, profit prediction using linear model is',pred_70_lin,'that using SGD is',pred_70_sgd)"
   ]
  },
  {
   "cell_type": "code",
   "execution_count": 7,
   "metadata": {},
   "outputs": [
    {
     "data": {
      "text/plain": [
       "Text(0, 0.5, 'Profit (10k)')"
      ]
     },
     "execution_count": 7,
     "metadata": {},
     "output_type": "execute_result"
    },
    {
     "data": {
      "image/png": "[encoded data removed]",
      "text/plain": [
       "<Figure size 432x288 with 1 Axes>"
      ]
     },
     "metadata": {
      "needs_background": "light"
     },
     "output_type": "display_data"
    }
   ],
   "source": [
    "# 1e - Make a plot of the regression line along with the training data.\n",
    "\n",
    "plt.plot(\"Population in 10k\", \"Profit in 10k\", '.', data=ft, label = 'data')\n",
    "X_new = np.array([5, 22.5])\n",
    "plt.plot(X_new, lin_reg.predict(np.c_[X_new]), color='r', label = 'lin_reg')\n",
    "plt.plot(X_new, sgd_reg.predict(np.c_[X_new]), color='g', label = 'lin_reg_sgd')\n",
    "plt.legend()\n",
    "plt.title('Profit vs Population of food truck company and its linear regression models', pad = 15)\n",
    "plt.xlabel('Population (10k)')\n",
    "plt.ylabel('Profit (10k)')"
   ]
  },
  {
   "cell_type": "markdown",
   "metadata": {},
   "source": [
    "## Problem 2"
   ]
  },
  {
   "cell_type": "code",
   "execution_count": 8,
   "metadata": {},
   "outputs": [
    {
     "name": "stdout",
     "output_type": "stream",
     "text": [
      "   size sqft  bedrooms   price\n",
      "0       2104         3  399900\n",
      "1       1600         3  329900\n",
      "2       2400         3  369000\n",
      "3       1416         2  232000\n",
      "4       3000         4  539900\n",
      "         size sqft   bedrooms          price\n",
      "count    47.000000  47.000000      47.000000\n",
      "mean   2000.680851   3.170213  340412.659574\n",
      "std     794.702354   0.760982  125039.899586\n",
      "min     852.000000   1.000000  169900.000000\n",
      "25%    1432.000000   3.000000  249900.000000\n",
      "50%    1888.000000   3.000000  299900.000000\n",
      "75%    2269.000000   4.000000  384450.000000\n",
      "max    4478.000000   5.000000  699900.000000\n"
     ]
    }
   ],
   "source": [
    "#Read file and set column names\n",
    "hp = pd.read_table('Data/houseprice.txt', delimiter= ',', header=None, names=[\"size sqft\",\"bedrooms\",\"price\"])\n",
    "\n",
    "#take a look at the dataset\n",
    "print(hp.head())\n",
    "print(hp.describe())"
   ]
  },
  {
   "cell_type": "code",
   "execution_count": 9,
   "metadata": {},
   "outputs": [
    {
     "name": "stdout",
     "output_type": "stream",
     "text": [
      "Beta hats for the linear model using SGD = [1.69286825e+10] [1.73426656e+12 5.20299515e+10]\n",
      "RSS for this linear model using SGD is 6.532683943135568e+32\n"
     ]
    }
   ],
   "source": [
    "#2a - Train a linear regression model with SGD and print out the minimum cost (RSS)\n",
    "\n",
    "# Define x and y and make x into a 2d array\n",
    "X = np.c_[hp[['size sqft', 'bedrooms']]]\n",
    "y = hp[\"price\"]\n",
    "\n",
    "# Train model with SGD, change default penalty from ridge L2 to none\n",
    "sgd_reg = sklearn.linear_model.SGDRegressor(penalty=None, random_state=102)\n",
    "sgd_reg.fit(X, y)\n",
    "\n",
    "# Take a look at coef\n",
    "print('Beta hats for the linear model using SGD =',sgd_reg.intercept_, sgd_reg.coef_)\n",
    "\n",
    "# Get Y-hat\n",
    "y_pred_sgd = sgd_reg.predict(X)\n",
    "\n",
    "# Calculate RSS\n",
    "RSS_sgd = mean_squared_error(y,y_pred_sgd)*len(y)\n",
    "print(\"RSS for this linear model using SGD is\",RSS_sgd)"
   ]
  },
  {
   "cell_type": "code",
   "execution_count": 10,
   "metadata": {},
   "outputs": [
    {
     "name": "stdout",
     "output_type": "stream",
     "text": [
      "Beta hats for the linear model = 89597.90954279748 [  139.21067402 -8738.01911233]\n",
      "RSS for this linear model is 192068324756.66592\n"
     ]
    }
   ],
   "source": [
    "#2b - Train a linear regression model with a non-iterative method and print out the minimum cost (RSS)\n",
    "\n",
    "# Train model\n",
    "lin_reg.fit(X,y)\n",
    "\n",
    "# Take a look at model coefficients\n",
    "print('Beta hats for the linear model =',lin_reg.intercept_,lin_reg.coef_)\n",
    "\n",
    "# Get Y-hat\n",
    "y_pred_lin = lin_reg.predict(X)\n",
    "\n",
    "# Calculate RSS\n",
    "RSS_lin = mean_squared_error(y,y_pred_lin)*len(y)\n",
    "print(\"RSS for this linear model is\",RSS_lin)\n"
   ]
  },
  {
   "cell_type": "code",
   "execution_count": 11,
   "metadata": {},
   "outputs": [
    {
     "name": "stdout",
     "output_type": "stream",
     "text": [
      "No, the two minimum costs do not agree. The RSS and coefficients of the sgd model are ridiculously big.\n"
     ]
    }
   ],
   "source": [
    "#2c - Do the minimum costs agree?\n",
    "print(\"No, the two minimum costs do not agree. The RSS and coefficients of the sgd model are ridiculously big.\")"
   ]
  },
  {
   "cell_type": "code",
   "execution_count": 12,
   "metadata": {
    "scrolled": true
   },
   "outputs": [
    {
     "name": "stdout",
     "output_type": "stream",
     "text": [
      "Beta hats for the linear model using SGD = [340388.48729806] [108922.89013153  -5948.50162663]\n",
      "RSS for this linear model using SGD with scaled data is 192082545081.88394\n",
      "The RSS is much smaller with scaled data when using SGD. It is similar to that of the non-iterative regression model.\n"
     ]
    }
   ],
   "source": [
    "#2d - Scale you feature matrix using sklearn.preprocessing.StandardScaler. \n",
    "# See the manual about what it is and how to use it. \n",
    "# Train a linear regression model with SGD using the scaled features. \n",
    "# Print out the minimum cost and what do you find?\n",
    "\n",
    "# Use the scaler to standardize x: it subtracts sample mean from each x and then divide the value by the sample's sd\n",
    "from sklearn.preprocessing import StandardScaler\n",
    "scaler = StandardScaler()\n",
    "X_scaled = scaler.fit_transform(X)\n",
    "\n",
    "# Train model with SGD using scaled data, change default penalty from ridge L2 to none\n",
    "sgd_reg_scale = sklearn.linear_model.SGDRegressor(penalty=None, random_state=103)\n",
    "sgd_reg_scale.fit(X_scaled, y)\n",
    "\n",
    "# Take a look at coef\n",
    "print('Beta hats for the linear model using SGD =',sgd_reg_scale.intercept_, sgd_reg_scale.coef_)\n",
    "\n",
    "# Get Y-hat\n",
    "y_pred_sgd_scale = sgd_reg_scale.predict(X_scaled)\n",
    "\n",
    "# Calculate RSS\n",
    "RSS_sgd_scale = mean_squared_error(y,y_pred_sgd_scale)*len(y)\n",
    "print(\"RSS for this linear model using SGD with scaled data is\",RSS_sgd_scale)\n",
    "\n",
    "print(\"The RSS is much smaller with scaled data when using SGD. It is similar to that of the non-iterative regression model.\")\n"
   ]
  },
  {
   "cell_type": "markdown",
   "metadata": {},
   "source": [
    "## Problem 3"
   ]
  },
  {
   "cell_type": "code",
   "execution_count": 13,
   "metadata": {},
   "outputs": [
    {
     "data": {
      "text/html": [
       "<div>\n",
       "<style scoped>\n",
       "    .dataframe tbody tr th:only-of-type {\n",
       "        vertical-align: middle;\n",
       "    }\n",
       "\n",
       "    .dataframe tbody tr th {\n",
       "        vertical-align: top;\n",
       "    }\n",
       "\n",
       "    .dataframe thead th {\n",
       "        text-align: right;\n",
       "    }\n",
       "</style>\n",
       "<table border=\"1\" class=\"dataframe\">\n",
       "  <thead>\n",
       "    <tr style=\"text-align: right;\">\n",
       "      <th></th>\n",
       "      <th>test_1</th>\n",
       "      <th>test_2</th>\n",
       "      <th>result</th>\n",
       "    </tr>\n",
       "  </thead>\n",
       "  <tbody>\n",
       "    <tr>\n",
       "      <th>0</th>\n",
       "      <td>0.051267</td>\n",
       "      <td>0.69956</td>\n",
       "      <td>1</td>\n",
       "    </tr>\n",
       "    <tr>\n",
       "      <th>1</th>\n",
       "      <td>-0.092742</td>\n",
       "      <td>0.68494</td>\n",
       "      <td>1</td>\n",
       "    </tr>\n",
       "    <tr>\n",
       "      <th>2</th>\n",
       "      <td>-0.213710</td>\n",
       "      <td>0.69225</td>\n",
       "      <td>1</td>\n",
       "    </tr>\n",
       "    <tr>\n",
       "      <th>3</th>\n",
       "      <td>-0.375000</td>\n",
       "      <td>0.50219</td>\n",
       "      <td>1</td>\n",
       "    </tr>\n",
       "    <tr>\n",
       "      <th>4</th>\n",
       "      <td>-0.513250</td>\n",
       "      <td>0.46564</td>\n",
       "      <td>1</td>\n",
       "    </tr>\n",
       "  </tbody>\n",
       "</table>\n",
       "</div>"
      ],
      "text/plain": [
       "     test_1   test_2  result\n",
       "0  0.051267  0.69956       1\n",
       "1 -0.092742  0.68494       1\n",
       "2 -0.213710  0.69225       1\n",
       "3 -0.375000  0.50219       1\n",
       "4 -0.513250  0.46564       1"
      ]
     },
     "execution_count": 13,
     "metadata": {},
     "output_type": "execute_result"
    }
   ],
   "source": [
    "#Read file and set column names\n",
    "qa = pd.read_table('Data/QA.txt', delimiter= ',', header=None, names=[\"test_1\",\"test_2\",\"result\"])\n",
    "\n",
    "#look at the head of the dataset\n",
    "qa.head()\n"
   ]
  },
  {
   "cell_type": "code",
   "execution_count": 14,
   "metadata": {},
   "outputs": [],
   "source": [
    "# define decision boundary function for later\n",
    "def plot_decision_boundary(model, accepted, rejected):\n",
    "    \"\"\"\n",
    "    Plot the decision boundary along with the data for problem 3\n",
    "    input:\n",
    "    model: the logistic regression model\n",
    "    accepted: dataframe of two columns that contains the two test scores for accepted microchips\n",
    "    rejected: dataframe of two columns that contains the two test scores for rejected microchips\n",
    "    \"\"\"\n",
    "    x_min, x_max = -1, 1.5\n",
    "    y_min, y_max = -0.8, 1.2\n",
    "    xx, yy = np.meshgrid(np.linspace(x_min, x_max, 200),\n",
    "                         np.linspace(y_min, y_max, 200))\n",
    "    Z = model.predict(poly.transform(np.c_[xx.ravel(), yy.ravel()]))\n",
    "    Z = Z.reshape(xx.shape)\n",
    "    plt.contour(xx, yy, Z, cmap=plt.cm.Paired)\n",
    "    \n",
    "    plt.scatter(accepted.iloc[:, 0], accepted.iloc[:, 1], marker='x')\n",
    "    plt.scatter(rejected.iloc[:, 0], rejected.iloc[:, 1], marker='s')\n",
    "    plt.legend(['Accepted', 'Rejected'])\n",
    "    plt.xlabel('Test score 1')\n",
    "    plt.ylabel('Test score 2');"
   ]
  },
  {
   "cell_type": "code",
   "execution_count": 15,
   "metadata": {},
   "outputs": [
    {
     "data": {
      "text/plain": [
       "Text(0.5, 1.0, 'Test 1 and Test 2 scores of accepted and rejected microchips')"
      ]
     },
     "execution_count": 15,
     "metadata": {},
     "output_type": "execute_result"
    },
    {
     "data": {
      "image/png": "[encoded data removed]",
      "text/plain": [
       "<Figure size 432x288 with 1 Axes>"
      ]
     },
     "metadata": {
      "needs_background": "light"
     },
     "output_type": "display_data"
    }
   ],
   "source": [
    "# 3a - Visualize the data; different classes should have different colors and markers.\n",
    "\n",
    "# create feature matrix:\n",
    "X = qa.iloc[:, :2]\n",
    "\n",
    "# create target vector\n",
    "y = qa.iloc[:, -1]\n",
    "\n",
    "# filter out accepted microchips:\n",
    "accepted = qa[qa[\"result\"]==1]\n",
    "\n",
    "# filter out rejected microchips:\n",
    "rejected = qa[qa[\"result\"]==0]\n",
    "\n",
    "# Visualize the data\n",
    "plt.scatter(accepted.iloc[:,0], accepted.iloc[:,1], label = 'Accepted', marker = 'x')\n",
    "plt.scatter(rejected.iloc[:,0], rejected.iloc[:,1], label = 'Rejected', marker = 's')\n",
    "plt.legend()\n",
    "plt.xlabel('Test 1 scores')\n",
    "plt.ylabel('Test 2 scores')\n",
    "plt.title('Test 1 and Test 2 scores of accepted and rejected microchips', pad = 15)"
   ]
  },
  {
   "cell_type": "code",
   "execution_count": 16,
   "metadata": {},
   "outputs": [
    {
     "name": "stdout",
     "output_type": "stream",
     "text": [
      "(118, 27)\n",
      "For alpha = 1, model parameters: [1.27271075] [[ 0.62536719  1.18095854 -2.01961804 -0.91752388 -1.43170395  0.12391867\n",
      "  -0.36536954 -0.35715555 -0.17501434 -1.45827831 -0.05112356 -0.61575808\n",
      "  -0.27472128 -1.19276292 -0.24241519 -0.20587922 -0.0448395  -0.27780311\n",
      "  -0.29535733 -0.45625452 -1.04347339  0.02770608 -0.29252353  0.01550105\n",
      "  -0.32746466 -0.1439423  -0.92460358]]\n"
     ]
    },
    {
     "data": {
      "image/png": "[encoded data removed]",
      "text/plain": [
       "<Figure size 432x288 with 1 Axes>"
      ]
     },
     "metadata": {
      "needs_background": "light"
     },
     "output_type": "display_data"
    }
   ],
   "source": [
    "# 3b - Use polynomial features of degree 6 for the logistic regression. \n",
    "#Use L2 regulariztion where  𝛼=1 . \n",
    "#Use the following function plot_decision_boundary to plot the decision boundary.\n",
    "\n",
    "# Set X into polynomial features with degree 6\n",
    "poly = PolynomialFeatures(degree=6, include_bias=False)\n",
    "X = poly.fit_transform(X)\n",
    "print(X.shape)\n",
    "\n",
    "# Fit logit - default penalty is L2, set C =1 for alpha =1 as C =1/alpha\n",
    "log_reg = sklearn.linear_model.LogisticRegression(C=1)\n",
    "log_reg.fit(X,y)\n",
    "print('For alpha = 1, model parameters:', log_reg.intercept_, log_reg.coef_)\n",
    "\n",
    "plot_decision_boundary(log_reg, accepted, rejected)"
   ]
  },
  {
   "cell_type": "code",
   "execution_count": 17,
   "metadata": {},
   "outputs": [
    {
     "name": "stdout",
     "output_type": "stream",
     "text": [
      "For alpha = 0, model parameters: [36.51502768] [[   52.97024945    91.63994388  -353.07217401  -168.80778353\n",
      "   -185.95255298  -349.43927012  -787.64380399  -670.01186561\n",
      "   -475.39370439  1132.07070562  1214.07333623  1814.25146921\n",
      "    864.77783097   487.64406932   548.46317239  1530.14036027\n",
      "   2384.87848503  2708.63036463  1646.04158176   726.98418949\n",
      "  -1206.03475652 -2140.37809509 -3910.33278443 -4017.98394906\n",
      "  -3964.96508915 -1917.13327311  -701.03892789]]\n"
     ]
    },
    {
     "data": {
      "image/png": "[encoded data removed]",
      "text/plain": [
       "<Figure size 432x288 with 1 Axes>"
      ]
     },
     "metadata": {
      "needs_background": "light"
     },
     "output_type": "display_data"
    }
   ],
   "source": [
    "# 3c - Repeat (b) using 𝛼=0 and 𝛼=100\n",
    "\n",
    "#When alpha is zero for a L2 Ridge logistic regression, it means no regularization, back to usual logistic\n",
    "log_reg = sklearn.linear_model.LogisticRegression(penalty='none', max_iter=100000)\n",
    "log_reg.fit(X,y)\n",
    "print('For alpha = 0, model parameters:', log_reg.intercept_, log_reg.coef_)\n",
    "\n",
    "plot_decision_boundary(log_reg, accepted, rejected)"
   ]
  },
  {
   "cell_type": "code",
   "execution_count": 18,
   "metadata": {},
   "outputs": [
    {
     "name": "stdout",
     "output_type": "stream",
     "text": [
      "For alpha = 100, model parameters: [0.02187841] [[-0.01748166  0.0057109  -0.0551688  -0.01314882 -0.03859837 -0.01846349\n",
      "  -0.0077322  -0.00892429 -0.02280442 -0.04343841 -0.00235623 -0.01415612\n",
      "  -0.00349509 -0.04143576 -0.02100588 -0.00471917 -0.00359131 -0.00632226\n",
      "  -0.00502441 -0.03197665 -0.0341633  -0.00107628 -0.00702615 -0.00038506\n",
      "  -0.0079823  -0.00154779 -0.04108666]]\n"
     ]
    },
    {
     "data": {
      "image/png": "[encoded data removed]",
      "text/plain": [
       "<Figure size 432x288 with 1 Axes>"
      ]
     },
     "metadata": {
      "needs_background": "light"
     },
     "output_type": "display_data"
    }
   ],
   "source": [
    "log_reg = sklearn.linear_model.LogisticRegression(C=0.01)\n",
    "log_reg.fit(X,y)\n",
    "print('For alpha = 100, model parameters:', log_reg.intercept_, log_reg.coef_)\n",
    "\n",
    "plot_decision_boundary(log_reg, accepted, rejected)"
   ]
  },
  {
   "cell_type": "code",
   "execution_count": 19,
   "metadata": {},
   "outputs": [
    {
     "name": "stdout",
     "output_type": "stream",
     "text": [
      "When there is no regularization, or when alpha is too small (alpha=0 in example), there maybe a problem with overfitting. If alpha is too big where there is too much regularization, the decision boundary is underfitting and is not picking the optimal boundary\n"
     ]
    }
   ],
   "source": [
    "#3d - What do you find for the three cases?\n",
    "\n",
    "print(\"When there is no regularization, or when alpha is too small (alpha=0 in example), there maybe a problem with overfitting. If alpha is too big where there is too much regularization, the decision boundary is underfitting and is not picking the optimal boundary\")"
   ]
  }
 ],
 "metadata": {
  "kernelspec": {
   "display_name": "Python 3",
   "language": "python",
   "name": "python3"
  },
  "language_info": {
   "codemirror_mode": {
    "name": "ipython",
    "version": 3
   },
   "file_extension": ".py",
   "mimetype": "text/x-python",
   "name": "python",
   "nbconvert_exporter": "python",
   "pygments_lexer": "ipython3",
   "version": "3.8.5"
  },
  "latex_envs": {
   "LaTeX_envs_menu_present": true,
   "autoclose": false,
   "autocomplete": true,
   "bibliofile": "biblio.bib",
   "cite_by": "apalike",
   "current_citInitial": 1,
   "eqLabelWithNumbers": true,
   "eqNumInitial": 1,
   "hotkeys": {
    "equation": "Ctrl-E",
    "itemize": "Ctrl-I"
   },
   "labels_anchors": false,
   "latex_user_defs": false,
   "report_style_numbering": false,
   "user_envs_cfg": false
  },
  "toc": {
   "base_numbering": 1,
   "nav_menu": {},
   "number_sections": true,
   "sideBar": true,
   "skip_h1_title": false,
   "title_cell": "Table of Contents",
   "title_sidebar": "Contents",
   "toc_cell": false,
   "toc_position": {},
   "toc_section_display": true,
   "toc_window_display": false
  }
 },
 "nbformat": 4,
 "nbformat_minor": 4
}
